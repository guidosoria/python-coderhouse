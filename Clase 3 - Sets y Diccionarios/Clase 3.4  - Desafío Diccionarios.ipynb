{
 "cells": [
  {
   "cell_type": "markdown",
   "metadata": {},
   "source": [
    "# Desafío Diccionarios - Copa Mundial\n",
    "### Crear un diccionario que almacene a los ganadores de la Copa Mundial de la FIFA desde el año 1990 al 2018 y mostrarlo en pantalla"
   ]
  },
  {
   "cell_type": "code",
   "execution_count": 1,
   "metadata": {},
   "outputs": [
    {
     "name": "stdout",
     "output_type": "stream",
     "text": [
      "{1990: 'Alemania', 1994: 'Brasil', 1998: 'Francia', 2002: 'Brasil', 2006: 'Italia', 2010: 'España', 2014: 'Alemana', 2018: 'Francia'}\n"
     ]
    }
   ],
   "source": [
    "campeones = {1990:'Alemania', 1994:'Brasil', 1998:'Francia', 2002:'Brasil', 2006:'Italia', 2010:'España', 2014:'Alemana', 2018:'Francia'}\n",
    "print(campeones)"
   ]
  }
 ],
 "metadata": {
  "kernelspec": {
   "display_name": "Python 3",
   "language": "python",
   "name": "python3"
  },
  "language_info": {
   "codemirror_mode": {
    "name": "ipython",
    "version": 3
   },
   "file_extension": ".py",
   "mimetype": "text/x-python",
   "name": "python",
   "nbconvert_exporter": "python",
   "pygments_lexer": "ipython3",
   "version": "3.9.6"
  }
 },
 "nbformat": 4,
 "nbformat_minor": 2
}
