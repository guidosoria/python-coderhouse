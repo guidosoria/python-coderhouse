{
 "cells": [
  {
   "cell_type": "markdown",
   "metadata": {},
   "source": [
    "# Diccionarios\n",
    "### Los diccionarios son una colección no ordenada de objetos ya que los mismos se referencian con clave:valor\n",
    "#### Las claves suelen ser int o strings, aunque cualquier otro objeto inmutable puede actuar como clave\n",
    "#### Los valores, por el contrario, pueden ser de cualquier tipo, incluso diccionarios"
   ]
  },
  {
   "cell_type": "code",
   "execution_count": 12,
   "metadata": {},
   "outputs": [
    {
     "name": "stdout",
     "output_type": "stream",
     "text": [
      "yellow\n"
     ]
    }
   ],
   "source": [
    "colores_traducidos = {\"amarillo\":\"yellow\", \"rojo\":\"red\", \"azul\":\"blue\"}\n",
    "\n",
    "print(colores_traducidos[\"amarillo\"]) # Para consultar un valor del diccionario lo cosultamos por su clave"
   ]
  },
  {
   "cell_type": "markdown",
   "metadata": {},
   "source": [
    "### Mutabilidad\n",
    "#### Los dicionarios al igual que las listas son \"mutables\", es decir que podemos reasignar sus ítems haciendo referencia con el índice"
   ]
  },
  {
   "cell_type": "code",
   "execution_count": 13,
   "metadata": {},
   "outputs": [
    {
     "name": "stdout",
     "output_type": "stream",
     "text": [
      "{'amarillo': 'white', 'rojo': 'red', 'azul': 'blue'}\n"
     ]
    }
   ],
   "source": [
    "colores_traducidos[\"amarillo\"] = \"white\"\n",
    "print(colores_traducidos)"
   ]
  },
  {
   "cell_type": "markdown",
   "metadata": {},
   "source": [
    "## Asignación\n",
    "#### La asignación también permite operaciones"
   ]
  },
  {
   "cell_type": "code",
   "execution_count": 14,
   "metadata": {},
   "outputs": [
    {
     "name": "stdout",
     "output_type": "stream",
     "text": [
      "{'Juan': 26, 'Esteban': 35, 'Maria': 29}\n",
      "{'Juan': 31, 'Esteban': 35, 'Maria': 58}\n"
     ]
    }
   ],
   "source": [
    "edades = {\"Juan\":26, \"Esteban\":35, \"Maria\":29}\n",
    "print(edades)\n",
    "\n",
    "edades[\"Juan\"] += 5\n",
    "edades[\"Maria\"] *= 2\n",
    "print(edades)"
   ]
  },
  {
   "cell_type": "markdown",
   "metadata": {},
   "source": [
    "## Funciones más importantes de Diccionarios"
   ]
  },
  {
   "cell_type": "code",
   "execution_count": 17,
   "metadata": {},
   "outputs": [
    {
     "name": "stdout",
     "output_type": "stream",
     "text": [
      "{'uno': 1, 'dos': 2, 'tres': 3, 'cuatro': 4, 'cinco': 5}\n",
      "{'uno': 1, 'dos': 2, 'tres': 3, 'cuatro': 4, 'cinco': 5, 'seis': 6, 'siete': 7}\n",
      "7\n",
      "{'dos': 2, 'tres': 3, 'cuatro': 4, 'cinco': 5, 'seis': 6, 'siete': 7}\n",
      "True\n",
      "False\n",
      "{}\n"
     ]
    }
   ],
   "source": [
    "# AGREGAR UA NUEVA CLAVE:VALOR - No existe una función add pero se puede realizar de la siguiente manera:\n",
    "numeros = {'uno':1, 'dos':2, 'tres':3, 'cuatro':4}\n",
    "numeros['cinco'] = 5\n",
    "print(numeros)\n",
    "\n",
    "#UPDATE - Actualiza un diccionario agregando los pares clave:valor\n",
    "numeros.update({'seis':6, 'siete':7})\n",
    "print(numeros)\n",
    "\n",
    "#LEN - Nos dice cuántos pares clave:valor tine el diccionario\n",
    "print(len(numeros))\n",
    "\n",
    "#DEL - Elimina un ítem del diccinoario, sin modificar el resto, si el elemento no existe simlpemente es ignorado\n",
    "del numeros[\"uno\"]\n",
    "print(numeros)\n",
    "\n",
    "#IN - Nos permite saber si un elemento existe en el diccionario\n",
    "print(\"dos\" in numeros)\n",
    "print(\"diez\" in numeros)\n",
    "\n",
    "# CLEAR - Borramos todos los items del diccionario\n",
    "numeros.clear()\n",
    "print(numeros)"
   ]
  }
 ],
 "metadata": {
  "kernelspec": {
   "display_name": "Python 3",
   "language": "python",
   "name": "python3"
  },
  "language_info": {
   "codemirror_mode": {
    "name": "ipython",
    "version": 3
   },
   "file_extension": ".py",
   "mimetype": "text/x-python",
   "name": "python",
   "nbconvert_exporter": "python",
   "pygments_lexer": "ipython3",
   "version": "3.9.6"
  }
 },
 "nbformat": 4,
 "nbformat_minor": 2
}
