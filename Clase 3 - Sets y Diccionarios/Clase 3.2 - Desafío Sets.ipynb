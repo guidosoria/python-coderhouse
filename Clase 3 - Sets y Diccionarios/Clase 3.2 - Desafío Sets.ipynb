{
 "cells": [
  {
   "cell_type": "markdown",
   "metadata": {},
   "source": [
    "# Desafío Sets\n",
    "\n",
    "### Descripción de la actividad\n",
    "##### Crear un conjunto en Python que posea los sigueintes elementos: Rojo, Azul y Blanco###### Luego agrega al set de colores los valores: Violeta y Dorado\n",
    "##### Elimina los colores: Celeste, Blanco y Dorado\n",
    "##### ¿Que pasa si queremos eliminar el color Celeste utilizando el método \"discard\""
   ]
  },
  {
   "cell_type": "code",
   "execution_count": 11,
   "metadata": {},
   "outputs": [
    {
     "name": "stdout",
     "output_type": "stream",
     "text": [
      "{'Violeta', 'Azul', 'Rojo'}\n"
     ]
    }
   ],
   "source": [
    "# 1\n",
    "colores = {\"Rojo\", \"Blanco\", \"Azul\"}\n",
    "\n",
    "# 2\n",
    "colores.update([\"Violeta\", \"Dorado\"])\n",
    "\n",
    "# 3\n",
    "colores.discard(\"Celeste\")\n",
    "colores.discard(\"Blanco\")\n",
    "colores.discard(\"Dorado\")\n",
    "\n",
    "print(colores)\n",
    "\n",
    "# 4\n",
    "# La función descartará la acción ya que no existe pero sin tirar un error"
   ]
  }
 ],
 "metadata": {
  "kernelspec": {
   "display_name": "Python 3",
   "language": "python",
   "name": "python3"
  },
  "language_info": {
   "codemirror_mode": {
    "name": "ipython",
    "version": 3
   },
   "file_extension": ".py",
   "mimetype": "text/x-python",
   "name": "python",
   "nbconvert_exporter": "python",
   "pygments_lexer": "ipython3",
   "version": "3.9.6"
  }
 },
 "nbformat": 4,
 "nbformat_minor": 2
}
