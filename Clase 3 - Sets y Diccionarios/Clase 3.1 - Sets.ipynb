{
 "cells": [
  {
   "cell_type": "markdown",
   "metadata": {},
   "source": [
    "# Sets\n",
    "\n",
    "### Un set o conjunto es una colección no ordenada de objetos ÚNICOS, es decir, no tiene elementos duplicados\n",
    "\n",
    "#### Los conjuntos son ampliamente utilizados en lógica y matemáticas, y desde Python podemos sacar provecho de esto para crear código mas eficiente y legible en menos tiempo"
   ]
  },
  {
   "cell_type": "code",
   "execution_count": 16,
   "metadata": {},
   "outputs": [
    {
     "name": "stdout",
     "output_type": "stream",
     "text": [
      "{1, 2, 3, 4}\n",
      "{'estás', 'Hola', '?', 'como'}\n"
     ]
    }
   ],
   "source": [
    "conjunto = {1, 2, 3, 4}\n",
    "print(conjunto)\n",
    "\n",
    "otro_conjunto = {\"Hola\", \"como\", \"estás\", \"?\"}\n",
    "print(otro_conjunto)"
   ]
  },
  {
   "cell_type": "markdown",
   "metadata": {},
   "source": [
    "### Heterogéneos\n",
    "#### Los sets no tienen por qué ser de un solo tipo de datos, pueden contener dentro de si números, variables, tuplas o strings"
   ]
  },
  {
   "cell_type": "code",
   "execution_count": 17,
   "metadata": {},
   "outputs": [
    {
     "name": "stdout",
     "output_type": "stream",
     "text": [
      "{1, 'Una variable', 'una cadeana', 12.6, -5}\n"
     ]
    }
   ],
   "source": [
    "mi_var = \"Una variable\"\n",
    "\n",
    "datos = {1, -5, 12.6, \"una cadeana\", mi_var}\n",
    "print(datos)"
   ]
  },
  {
   "cell_type": "markdown",
   "metadata": {},
   "source": [
    "#### Sin embargo los sets no pueden contener objetos mutables como listas, dicionarios e incluso otros conjuntos de sets "
   ]
  },
  {
   "cell_type": "code",
   "execution_count": 18,
   "metadata": {},
   "outputs": [
    {
     "ename": "SyntaxError",
     "evalue": "invalid syntax (4185574459.py, line 1)",
     "output_type": "error",
     "traceback": [
      "\u001b[0;36m  Cell \u001b[0;32mIn[18], line 1\u001b[0;36m\u001b[0m\n\u001b[0;31m    S = [[1,2], [1,2,3,4]. 2] # Esto debe arrojar un error\u001b[0m\n\u001b[0m                           ^\u001b[0m\n\u001b[0;31mSyntaxError\u001b[0m\u001b[0;31m:\u001b[0m invalid syntax\n"
     ]
    }
   ],
   "source": [
    "S = [[1,2], [1,2,3,4]. 2] # Esto nos arrojará un error"
   ]
  },
  {
   "cell_type": "markdown",
   "metadata": {},
   "source": [
    "#### Podemos obtener un set a partir de cualquier objeto iterable"
   ]
  },
  {
   "cell_type": "code",
   "execution_count": 19,
   "metadata": {},
   "outputs": [
    {
     "name": "stdout",
     "output_type": "stream",
     "text": [
      "{1, 2, 3, 4}\n",
      "{0, 1, 2, 3, 4, 5, 6, 7, 8, 9}\n"
     ]
    }
   ],
   "source": [
    "set1 = set([1,2,3,4])\n",
    "print(set1)\n",
    "set2 = set(range(10))\n",
    "print(set2)"
   ]
  },
  {
   "cell_type": "markdown",
   "metadata": {},
   "source": [
    "#### Un set puede ser convertido a una lista y viceversa"
   ]
  },
  {
   "cell_type": "code",
   "execution_count": 23,
   "metadata": {},
   "outputs": [
    {
     "name": "stdout",
     "output_type": "stream",
     "text": [
      "[1, 90, 'Hola']\n",
      "{'Juan', 'Francia', 29, -10}\n"
     ]
    }
   ],
   "source": [
    "mi_set = {1, 90, \"Hola\"}\n",
    "mi_lista = list(mi_set)\n",
    "print(mi_lista)\n",
    "\n",
    "mi_otra_lista = [\"Juan\", 29, \"Francia\", -10]\n",
    "mi_otro_set = set(mi_otra_lista)\n",
    "print(mi_otro_set)\n"
   ]
  },
  {
   "cell_type": "markdown",
   "metadata": {},
   "source": [
    "## Listas vs Sets\n",
    "\n",
    "#### Como comentamos, las listas son mutables y los sets también lo son; sin embargo en los sets no podemos hacer slicing ni manejar índices"
   ]
  },
  {
   "cell_type": "code",
   "execution_count": 25,
   "metadata": {},
   "outputs": [
    {
     "ename": "TypeError",
     "evalue": "'set' object is not subscriptable",
     "output_type": "error",
     "traceback": [
      "\u001b[0;31m---------------------------------------------------------------------------\u001b[0m",
      "\u001b[0;31mTypeError\u001b[0m                                 Traceback (most recent call last)",
      "Cell \u001b[0;32mIn[25], line 2\u001b[0m\n\u001b[1;32m      1\u001b[0m mi_set \u001b[38;5;241m=\u001b[39m {\u001b[38;5;124m'\u001b[39m\u001b[38;5;124ma\u001b[39m\u001b[38;5;124m'\u001b[39m,\u001b[38;5;124m'\u001b[39m\u001b[38;5;124mb\u001b[39m\u001b[38;5;124m'\u001b[39m,\u001b[38;5;124m'\u001b[39m\u001b[38;5;124mc\u001b[39m\u001b[38;5;124m'\u001b[39m}\n\u001b[0;32m----> 2\u001b[0m \u001b[38;5;28mprint\u001b[39m(\u001b[43mmi_set\u001b[49m\u001b[43m[\u001b[49m\u001b[38;5;241;43m1\u001b[39;49m\u001b[43m]\u001b[49m) \u001b[38;5;66;03m# Esto nos regresará un error\u001b[39;00m\n",
      "\u001b[0;31mTypeError\u001b[0m: 'set' object is not subscriptable"
     ]
    }
   ],
   "source": [
    "mi_set = {'a','b','c'}\n",
    "print(mi_set[1]) # Esto nos regresará un error\n"
   ]
  },
  {
   "cell_type": "markdown",
   "metadata": {},
   "source": [
    "## Funciones Integradas\n",
    "\n",
    "#### En los sets hay funciones muy importantes que son muy interesantes e importantes; las funciones integradas. Las mas importantes son:"
   ]
  },
  {
   "cell_type": "code",
   "execution_count": 64,
   "metadata": {},
   "outputs": [
    {
     "name": "stdout",
     "output_type": "stream",
     "text": [
      "{1, 2, 3, 4, 5}\n",
      "{1, 2, 3, 4, 5, 6}\n",
      "{1, 2, 3, 4, 5, 6, 7, 8, 9}\n",
      "9\n",
      "{1, 2, 3, 4, 5, 6, 7, 8}\n",
      "{1, 2, 3, 4, 5, 6, 7}\n",
      "True\n",
      "Se está borrando:  1\n",
      "{2, 3, 4, 5, 6, 7}\n",
      "set()\n"
     ]
    }
   ],
   "source": [
    "# ADD - Nos permite agregar un nuevo ítem al set\n",
    "\n",
    "numeros = {1,2,3,4}\n",
    "numeros.add(5)\n",
    "print(numeros)\n",
    "\n",
    "numeros.add(3*2) # También en la función ADD podemos realizar operaciones aritméticas\n",
    "print(numeros)\n",
    "\n",
    "# UPDATE - Nos pemite agregar múltiples elementos a un set y puede tomar como argumento una lista, tupla, string, conjunto  cualquier objeto de tipo iterable\n",
    "numeros.update([7,8,9])\n",
    "print(numeros)\n",
    "\n",
    "# LEN - Longitud del set; nos dice cuantos elementos tiene el set\n",
    "print(len(numeros))\n",
    "\n",
    "# DISCARD - Elimina un ítem del set; si el conjunto pasado como argumento no existe en el set, simplemente se descarta\n",
    "numeros.discard(9)\n",
    "print(numeros)\n",
    "\n",
    "# REMOVE - Funciona igual que el DISCARD, a diferencia que si el elemento no existe, nos arroja un error\n",
    "numeros.remove(8)\n",
    "print(numeros)\n",
    "\n",
    "# IN - Nos permite consultar si un item pertenece a un set - Nos devuelve True o False\n",
    "existe = 6 in numeros\n",
    "print(existe)\n",
    "\n",
    "# POP - Nos reorna un elemento aleatorio del set\n",
    "print(\"Se está borrando: \", numeros.pop())\n",
    "print(numeros)\n",
    "\n",
    "# CLEAR - Borramos todos los elementos del set\n",
    "numeros.clear()\n",
    "print(numeros)"
   ]
  }
 ],
 "metadata": {
  "kernelspec": {
   "display_name": "Python 3",
   "language": "python",
   "name": "python3"
  },
  "language_info": {
   "codemirror_mode": {
    "name": "ipython",
    "version": 3
   },
   "file_extension": ".py",
   "mimetype": "text/x-python",
   "name": "python",
   "nbconvert_exporter": "python",
   "pygments_lexer": "ipython3",
   "version": "3.9.6"
  }
 },
 "nbformat": 4,
 "nbformat_minor": 2
}
