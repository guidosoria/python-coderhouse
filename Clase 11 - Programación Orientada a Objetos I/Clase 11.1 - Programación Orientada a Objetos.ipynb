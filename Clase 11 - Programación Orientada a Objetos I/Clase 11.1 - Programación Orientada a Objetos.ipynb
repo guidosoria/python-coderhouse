{
 "cells": [
  {
   "cell_type": "markdown",
   "metadata": {},
   "source": [
    "# -- POO - Programación Orientada a Objetos --\n",
    "##### Es un modo o paradigma de programación, que nos permite organizar el código pensando el problema como una relación entre \"cosas\", denominadas objetos\n",
    "##### Los objetos se trabajan utilizando las \"clases\"; estas nos permiten agrupar un conjunto de variables y funciones que veremos a continuación"
   ]
  },
  {
   "cell_type": "markdown",
   "metadata": {},
   "source": [
    "### -- Motivación --\n",
    "##### A lo largo de los años, los programadores se han dedicado a construiir aplicaciones muy parecidas que resolvían una y otra vez los mismos problemas. Para conseguir que los esfuerzos de los programadores puedan ser reutilizados se creó la posibilidad de utilizar \"MÓDULOS\"y el primer módulo existente fue la FUNCIÓN; pero la función se centra más en una funcionalidad dada, pero no tiene tanto interés con los datos\n",
    "##### Con La POO se busca resolver aplicaciones cada vez más complejas, sin que el código se vuelva un caos. Además se pretende dar pautas para realizar cosas de manera que otras personas puedan utilizarlas y adelantar su trabajo de manera que consigamos que EL CÓDIGO SE PUEDA REUTILIZAR"
   ]
  },
  {
   "cell_type": "markdown",
   "metadata": {},
   "source": [
    "##### -- EN RESUMEN --\n",
    "##### Lo importante de la POO es poder separar los problemas generales en suma de pequeños problemas aislados, para poder modelar la solución y en un futuro que cualquiera pueda utilizar varios de estos módulos creados por este paradigma"
   ]
  },
  {
   "cell_type": "markdown",
   "metadata": {},
   "source": [
    "# -- Paradigmas de programación --\n",
    "##### Un paradigma de programación es un estilo de desarrollo de programas. Es decir, un modelo para resolver problemas computacionales\n",
    "##### Los lenguajes de programación se encuadran en uno o varios paradigmas en base al tipo de órdenes que permiten implementar, algo que tiene relación directa con su sintaxis"
   ]
  },
  {
   "cell_type": "markdown",
   "metadata": {},
   "source": [
    "### Imperativo\n",
    "##### Los programas se componen de un conjunto de sentencia que cambian su estado. Son secuencias de comandos que ordenan acciones a la computadora\n",
    "### Declarativo \n",
    "##### Opuesto al imperativo. Los programas describen los resultados esperados sin listar explícitamente los pasos a llevar a cabo. Por ejemplo SQL: \"SELECT name, age FROM users WHERE age > 30;\" donde indicamos lo que queremos como resultado y no como llegar al mismo\n",
    "### Lógico\n",
    "##### El problema se modela con enunciados de lógica del primer orden\n",
    "### Funcional\n",
    "##### Los programas se componen de funciones, es decir, implementaciones de comportamiento que reciben un conjunto de datos de entrada y devuelven un valor de salida\n",
    "### ORIENTADO A OBJETOS\n",
    "##### El comportamiento del programa es llevado a cabo por objetos, entidades que representan elementos del problema a resolver y tienen atributos y coomportamientos"
   ]
  },
  {
   "cell_type": "markdown",
   "metadata": {},
   "source": [
    "# -- Diferencias con la programación tradicional --\n",
    "### Programación estructurada\n",
    "##### - Énfasis en la transformación de datos\n",
    "##### - Las funciones y los datos son manejados como entidades separadas\n",
    "##### - Dificil de entender y modificar\n",
    "### Programación orientada a objetos\n",
    "##### - Enfasis en la abstracción de datos\n",
    "##### - Las funciones y los datos son encapsulados en una entidad\n",
    "##### - Facilita su mantenimiento y su comprensión es orientada al mundo real"
   ]
  },
  {
   "cell_type": "markdown",
   "metadata": {},
   "source": [
    "# -- ¿Cómo se piensa en la Programación Orientada a Objetos? --\n",
    "##### Es muy parecido a cómo lo haríamos en la vida real. Por ejemplo vamos a pensar en un coche para tratar de modelizar un esquema de POO\n",
    "##### EELEMENTO PRINCIPAL: Coche --- CLASE\n",
    "##### CARACTERÍSTICAS: Marca, Modelo, Color, etc --- ATRIBUTOS\n",
    "##### FUNCIONALIDADES: Reversa, Aparcamiento, etc --- MÉTODOS"
   ]
  }
 ],
 "metadata": {
  "language_info": {
   "name": "python"
  }
 },
 "nbformat": 4,
 "nbformat_minor": 2
}
