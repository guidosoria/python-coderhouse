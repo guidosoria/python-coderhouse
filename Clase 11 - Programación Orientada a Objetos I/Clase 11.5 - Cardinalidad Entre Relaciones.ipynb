{
 "cells": [
  {
   "cell_type": "markdown",
   "metadata": {},
   "source": [
    "# Cardinalidad Entre Relaciones\n",
    "##### La cardinalidad en las relaciones es un concepto que describe el número de instancias de una entidad que pueden estar asociadas con instancias de otra entidad\n",
    "### Uno a uno (1:1)\n",
    "##### Cada instancia de una entidad está asociada con una única instancia de otra entidad y viceversa. Por ejemplo; en una relación entre \"persona\" y \"pasaporte, una persona puede tener un único pasaporte y cada pasaporte corresponde a una única persona"
   ]
  },
  {
   "cell_type": "markdown",
   "metadata": {},
   "source": [
    "### Uno a Muchos (1:)\n",
    "##### Una instancia de una entidad puede estar asociada con muchas instancias de otra entidad pero cada instancia de la otra entidad está asociada con una única instancia de la primera entidad. Por ejemplo; Un autor puede escribir muchos libros, pero un libro solo tiene un autor"
   ]
  },
  {
   "cell_type": "markdown",
   "metadata": {},
   "source": [
    "### Muchos a Muchos (:)\n",
    "##### Muchas instancias de una entidad pueden estar asociadas con muchas instancias de otra entidad. Por ejemplo, un estudiante puede estar inscripto en varios cursos y un curso puede tener muchos estudiantes"
   ]
  },
  {
   "cell_type": "markdown",
   "metadata": {},
   "source": [
    "### Otros\n",
    "##### - Cero a Uno (0:1)\n",
    "##### - Cero a Muchos (0:)"
   ]
  }
 ],
 "metadata": {
  "language_info": {
   "name": "python"
  }
 },
 "nbformat": 4,
 "nbformat_minor": 2
}
