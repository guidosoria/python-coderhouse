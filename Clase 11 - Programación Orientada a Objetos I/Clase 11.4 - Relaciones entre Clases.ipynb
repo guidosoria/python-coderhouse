{
 "cells": [
  {
   "cell_type": "markdown",
   "metadata": {},
   "source": [
    "# Relaciones Entre Clases\n",
    "##### La Orientación a Objetos (POO) intenta modelar aplicaciones del mundo real tan fielmente como sea posible y, por lo tanto, debe reflejar estas relaciones entre clases y objetos\n",
    "#### Existen 3 tipos de relaciones:\n",
    "##### Agrecación / Composición\n",
    "##### Asociación\n",
    "##### Generalización / Especialización. Herencia simple y herencia múltiple"
   ]
  },
  {
   "cell_type": "markdown",
   "metadata": {},
   "source": [
    "### Agregación\n",
    "##### En la relación de agregación, una clase \"objeto contenedor\" contiene una referencia a otra clase \"objeto contenido\", pero la vida útil de los objetos contenidos no depende de la vida útil del objeto contenedor; esto quiere decir que la clase contenida puede existir de forma independiente o también ser compartida por otros objetos contenedores y también que si el objeto contenedor se destruye, los objetos contenidos pueden seguir existiendo\n",
    "##### Ejemplo: Relación entre una clase \"Universidad\" (contenedor) y una clase \"Estudiante\" (contenido); los estudiantes pueden ser parte de una universidad, pero pueden existir incluso si no están asociados a ninguna universidad en particular"
   ]
  },
  {
   "cell_type": "markdown",
   "metadata": {},
   "source": [
    "### Composición\n",
    "##### En una relación de composición, una clase \"objeto contenedor\" contiene una referencia a otra clase \"objeto contenido\", pero en este caso, la vida útil del \"objeto contenido\" está fuertemente ligada a la vida útil del contenedor; el objeto contenido no puede existir sin el objeto contenedor y si el objeto contenedor se destruyo, el objeto contenido se destruirá también\n",
    "##### Ejemplo: Relación entre una clase \"Casa\" (contenedor) y una clase \"Habitación\" (contenido); una habitación no puede existir de forma independiente fuera de la casa a la que pertenece, si la casa se destruye también se destruye la habitación"
   ]
  },
  {
   "cell_type": "markdown",
   "metadata": {},
   "source": [
    "### Asociación\n",
    "##### La relación de asociación refiere a una relación semántica entre objetos no relacionados. Son relaciones del tipo \"pertenece a\" o \"está asociado con\". Las clases pueden interactuar entre sí a través de métodos y atributos pero cada una existe de manera independiente sin depender de la otra para su creación o existencia\n",
    "##### Ejemplo: Relación de asociación entre \"Estudiante\" y \"Profesor\"; un estudiante puede tener asociación con varios profesores (por ejemplo, puede tener un atributo que sea una lista de objetos de la clase \"Profesor\" que enseñan sus cursos), y un profesor puede tener asociación con varios estudiantes, pero ninguno de ellos depende del otro para existir\n"
   ]
  },
  {
   "cell_type": "markdown",
   "metadata": {},
   "source": [
    "### Generalización\n",
    "##### La generalización refiere a una jerarquía de clases en la que una clase más general es extendida por una o más clases más específicas; esta relación se maneja mediante el concepto de HERENCIA.\n",
    "##### Herencia Simple: Una clase comparte la estructura y comportamiento de una sola clase\n",
    "##### Herencia Múltiple: Una clase comparte la estructura y comportamiento de varias clases"
   ]
  }
 ],
 "metadata": {
  "language_info": {
   "name": "python"
  }
 },
 "nbformat": 4,
 "nbformat_minor": 2
}
