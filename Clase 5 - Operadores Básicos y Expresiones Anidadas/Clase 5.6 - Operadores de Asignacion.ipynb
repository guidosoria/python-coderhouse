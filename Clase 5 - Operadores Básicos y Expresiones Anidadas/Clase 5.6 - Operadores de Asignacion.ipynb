{
 "cells": [
  {
   "cell_type": "markdown",
   "metadata": {},
   "source": [
    "# Operadores de Asignación\n",
    "\n",
    "### El operador de asignación más utilizado y el cual hemos utilizado hasta ahora es el signo \"=\"\n",
    "### Además de éste existen otros operadores compuestos de asignación que realizan una operación básica sobre la variable:"
   ]
  },
  {
   "cell_type": "code",
   "execution_count": null,
   "metadata": {},
   "outputs": [],
   "source": [
    "a = 0\n",
    "\n",
    "# SUMA EN ASIGNACIÓN\n",
    "a += 1 # ---> a = a + 1\n",
    "\n",
    "# RESTA EN ASIGNACIÓN\n",
    "a -= 5 # ---> a = a - 1\n",
    "\n",
    "# PRODUCTO EN ASIGNACIÓN\n",
    "a *= 3 # ---> a = a * 3\n",
    "\n",
    "# DIVISIÓN EN ASIGNACIÓN\n",
    "a /= 2 # ---> a = a / 2\n",
    "\n",
    "# MÓDULO EN ASIGNACIÓN\n",
    "a %= 2 # ---> a = a % 2\n",
    "\n",
    "# POTENCIA EN ASIGNACIÓN\n",
    "a **= 3 # ---> a = a ** 3"
   ]
  }
 ],
 "metadata": {
  "language_info": {
   "name": "python"
  }
 },
 "nbformat": 4,
 "nbformat_minor": 2
}
