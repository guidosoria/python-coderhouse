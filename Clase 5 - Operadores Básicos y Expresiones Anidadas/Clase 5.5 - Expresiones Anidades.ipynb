{
 "cells": [
  {
   "cell_type": "markdown",
   "metadata": {},
   "source": [
    " # Expresiones Anidadas\n",
    " #### Hemos visto que existen un montón de expresiones distintas; estas pueden ser anidadas creando grandes combinaciones; a esto se le denomina \"Expresiones Anidadas\"\n",
    " #### El problema es que se pueden definir grandes expresiones con multitud de operadores y operandos, y si no sabemos como Pyhon las interpreta a la hora de resolverlas, podríamos causar algunos errores sin querer"
   ]
  },
  {
   "cell_type": "markdown",
   "metadata": {},
   "source": [
    "#### Procedencia de operadores numéricos:"
   ]
  },
  {
   "cell_type": "code",
   "execution_count": null,
   "metadata": {},
   "outputs": [],
   "source": [
    "# - Términos entre paréntesis\n",
    "\n",
    "# - Potenciación y raíces\n",
    "\n",
    "# - Multiplicación y división\n",
    "\n",
    "# - Suma y resta"
   ]
  },
  {
   "cell_type": "markdown",
   "metadata": {},
   "source": [
    "# Actividad de Expresiones Anidadas\n",
    "### Crea una variable que almacene si se cumplen todas las condiciones\n",
    "### A partir de dos variables llamadas NOMBRE y EDAD, debes crear una variable que almacene si se cumplen todas las siguientes condiciones encadenando operadores lógicos\n",
    "##### NOMBRE sea diferente de ****\n",
    "##### Edad sea mayor que 5 y a su vez menor que 20\n",
    "##### Que la longitud de NOMBRE sea mayor o igual a 4 pero a la vez menor que 8\n",
    "##### Que EDAD multiplicado por 3 sea mayor que 35"
   ]
  },
  {
   "cell_type": "code",
   "execution_count": 6,
   "metadata": {},
   "outputs": [
    {
     "name": "stdout",
     "output_type": "stream",
     "text": [
      "False\n"
     ]
    }
   ],
   "source": [
    "NOMBRE = input(\"Ingresa tu nombre: \")\n",
    "EDAD = int(input(\"Ingresa tu edad: \"))\n",
    "\n",
    "RESULTADO = NOMBRE != \"****\" and (EDAD > 5 and EDAD < 20) and (len(NOMBRE) >= 4 and len(NOMBRE) < 8) and EDAD * 35 > 35\n",
    "print(RESULTADO)"
   ]
  }
 ],
 "metadata": {
  "kernelspec": {
   "display_name": "Python 3",
   "language": "python",
   "name": "python3"
  },
  "language_info": {
   "codemirror_mode": {
    "name": "ipython",
    "version": 3
   },
   "file_extension": ".py",
   "mimetype": "text/x-python",
   "name": "python",
   "nbconvert_exporter": "python",
   "pygments_lexer": "ipython3",
   "version": "3.9.6"
  }
 },
 "nbformat": 4,
 "nbformat_minor": 2
}
