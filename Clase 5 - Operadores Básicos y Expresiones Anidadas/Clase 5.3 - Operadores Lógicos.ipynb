{
 "cells": [
  {
   "cell_type": "markdown",
   "metadata": {},
   "source": [
    "# Operadores Lógicos"
   ]
  },
  {
   "cell_type": "code",
   "execution_count": 2,
   "metadata": {},
   "outputs": [
    {
     "name": "stdout",
     "output_type": "stream",
     "text": [
      "False\n",
      "True\n"
     ]
    }
   ],
   "source": [
    "# NOT ---------------------- \n",
    "# Es la negación y solo afecta a lógicos True y False\n",
    "print(not True) # False\n",
    "print(not True == False) # True"
   ]
  },
  {
   "cell_type": "code",
   "execution_count": 4,
   "metadata": {},
   "outputs": [
    {
     "name": "stdout",
     "output_type": "stream",
     "text": [
      "False\n"
     ]
    }
   ],
   "source": [
    "# AND ----------------\n",
    "# Es la conjunción; el que agrupa a través de la unión. Este operador une una o varias sentencias lógicas\n",
    "# Para que un AND sea True, todas las sentencias tienen que ser True\n",
    "# Verdadero y Verdadero = Verdadero\n",
    "# Falso y Verdadero = Falso\n",
    "# Falso y Falso = Falso\n",
    "\n",
    "print(2 < 1 and 5 > 2) # Expresión 1 = Falso, Expresión 2 = Veradadero: Resultado FALSO"
   ]
  },
  {
   "cell_type": "code",
   "execution_count": 5,
   "metadata": {},
   "outputs": [
    {
     "name": "stdout",
     "output_type": "stream",
     "text": [
      "True\n",
      "True\n"
     ]
    }
   ],
   "source": [
    "# OR ------------------\n",
    "# Es la disyunción; al contrario de AND, que une, este separa\n",
    "# Para que OR sea True, una de las sentencias tiene que se True\n",
    "# Verdadero y Verdadero = Verdadero\n",
    "# Falso y Verdadero = Verdadero\n",
    "# Falso y Falso = Falso\n",
    "\n",
    "print(2 > 1 or 5 > 2) # True\n",
    "print(5 < 20 or 20 > 1) # True"
   ]
  }
 ],
 "metadata": {
  "kernelspec": {
   "display_name": "Python 3",
   "language": "python",
   "name": "python3"
  },
  "language_info": {
   "codemirror_mode": {
    "name": "ipython",
    "version": 3
   },
   "file_extension": ".py",
   "mimetype": "text/x-python",
   "name": "python",
   "nbconvert_exporter": "python",
   "pygments_lexer": "ipython3",
   "version": "3.9.6"
  }
 },
 "nbformat": 4,
 "nbformat_minor": 2
}
