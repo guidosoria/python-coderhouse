{
 "cells": [
  {
   "cell_type": "markdown",
   "metadata": {},
   "source": [
    "# Operadores Relacionales\n",
    "#### Formlmente los operadores son aplicaciones, calculos que se llevan a cabo sobre dos argumentos conocidos como operandos\n",
    "\n",
    "## Expresiones\n",
    "#### Expresión es el conjunto que forman ls operandos y la operación"
   ]
  },
  {
   "cell_type": "markdown",
   "metadata": {},
   "source": [
    "### Los operadores aritméticos ( - / *) dan lugar a dos tipos de expresiones:"
   ]
  },
  {
   "cell_type": "code",
   "execution_count": 4,
   "metadata": {},
   "outputs": [
    {
     "data": {
      "text/plain": [
       "75.36"
      ]
     },
     "execution_count": 4,
     "metadata": {},
     "output_type": "execute_result"
    }
   ],
   "source": [
    "# ARITMÉTICAS - Cuando ambos operandos son valores literales\n",
    "2 + 5 \n",
    "\n",
    "# ALGEBRÁICAS - Cuando al menos un operando es una variable\n",
    "radio = float(input())\n",
    "radio * 3.14"
   ]
  },
  {
   "cell_type": "markdown",
   "metadata": {},
   "source": [
    "## El Tipo Lógico\n",
    "#### Es el tipo de dato mas básico de la información racional, y representa únicamente dos posibilidades: Verdadero o Falso\n",
    "#### También denominamos estos como \"booleanos\" o \"binarios\""
   ]
  },
  {
   "cell_type": "markdown",
   "metadata": {},
   "source": [
    "## Operadores Racionales\n",
    "#### Sib símbolos que se usan para comparar dos valores; si el resultado es correcto la expresión se considera verdadera (true) de lo contrario es falsa (false)"
   ]
  },
  {
   "cell_type": "code",
   "execution_count": null,
   "metadata": {},
   "outputs": [],
   "source": [
    "# IGUALDAD - Sirve para preguntar si ambos operadores son iguales\n",
    "\n",
    "2 == 2 # True\n",
    "\n",
    "# DESIGUALDAD - Sirve para preguntar si ambos operadores son disintos\n",
    "2 != 2 # False\n",
    "\n",
    "# MENOR QUE - Sirve para preguntar si el primer operando es menor que el segundo\n",
    "2 < 3 # True\n",
    "\n",
    "# MAYOR QUE - Sirve para preguntar si el primer operando es mayor que el segundo\n",
    "2 > 3 # False\n",
    "\n",
    "# MENOR O IGUAL QUE\n",
    "2 <= 3 # True\n",
    "\n",
    "# MAYOR O IGUAL QUE\n",
    "7 >= 7 # True\n",
    "\n",
    "# IGUALDAD Y DESIGUALDAD DE STRINGS\n",
    "\"HOLA\" == \"Hola\" # False\n",
    "\"HOLA\" != \"Hola\" # True\n",
    "\n",
    "\n"
   ]
  }
 ],
 "metadata": {
  "kernelspec": {
   "display_name": "Python 3",
   "language": "python",
   "name": "python3"
  },
  "language_info": {
   "codemirror_mode": {
    "name": "ipython",
    "version": 3
   },
   "file_extension": ".py",
   "mimetype": "text/x-python",
   "name": "python",
   "nbconvert_exporter": "python",
   "pygments_lexer": "ipython3",
   "version": "3.9.6"
  }
 },
 "nbformat": 4,
 "nbformat_minor": 2
}
