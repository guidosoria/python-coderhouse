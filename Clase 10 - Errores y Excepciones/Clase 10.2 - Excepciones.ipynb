{
 "cells": [
  {
   "cell_type": "markdown",
   "metadata": {},
   "source": [
    "# Excepciones\n",
    "##### Las excepciones son bloques de código que nos permiten continuar con la ejecución de un programa pese a que ocurra un error"
   ]
  },
  {
   "cell_type": "markdown",
   "metadata": {},
   "source": [
    "### Try - Except\n",
    "##### Para prevenir el fallo debemos poner el código propenso a errores en un bloque \"Try\" y luego encadenar un bloque \"Except\" para tratar la situacuón mostrando que ha ocurrido un fallo"
   ]
  },
  {
   "cell_type": "code",
   "execution_count": 3,
   "metadata": {},
   "outputs": [
    {
     "name": "stdout",
     "output_type": "stream",
     "text": [
      "Algo salió mal, debes ingresar dos argumentos con números\n"
     ]
    }
   ],
   "source": [
    "try:\n",
    "    n = float(input(\"Ingresar n: \"))\n",
    "    m = 4\n",
    "    print(f\"--> {n}/{m} = {n/m}\")\n",
    "\n",
    "except:\n",
    "    print(\"Algo salió mal, debes ingresar dos argumentos con números\")"
   ]
  },
  {
   "cell_type": "markdown",
   "metadata": {},
   "source": [
    "##### - Se ejecuta el bloque Try\n",
    "##### - Si no ocurre ningún error, el bloque except se saltea y termina la ejecución\n",
    "##### - Si ocurre un error durante la ejecución del bloque try, el resto del bloque se saltea\n",
    "##### - si el bloque \"Except\" coincide con el error, se ejecuta este bloque, sino se saltea"
   ]
  },
  {
   "cell_type": "markdown",
   "metadata": {},
   "source": [
    "##### Es importante indicar que si ponemos el bloque except solamente como \"except:\" éste hará match con cualqueir error que de en el bloque \"Try\". Pero también podemos identificar los errores que queremos e incluso en base a ellos poner mensajes diferentes"
   ]
  },
  {
   "cell_type": "code",
   "execution_count": 13,
   "metadata": {},
   "outputs": [
    {
     "name": "stdout",
     "output_type": "stream",
     "text": [
      "Algo salió mal, ocurrió un ZeroDivisionError, no se puede dividir por 0\n"
     ]
    }
   ],
   "source": [
    "try:\n",
    "    n = int(input(\"Ingrese un número n: \"))\n",
    "    m = int(input(\"Ingrese un número m: \"))\n",
    "    print(f\"{n}/{m} = {n/m}\")\n",
    "except ValueError as x:\n",
    "    print(f\"Algo salió mal {type(x).__name__}, uno de los operadores que ingresaste está mal\")\n",
    "except ZeroDivisionError as d:\n",
    "    print(f\"Algo salió mal, ocurrió un {type(d).__name__}, no se puede dividir por 0\")\n"
   ]
  },
  {
   "cell_type": "markdown",
   "metadata": {},
   "source": [
    "### Else\n",
    "##### También opcionalmente podemos utilizar un \"Else\" al final de nuestra estructura. Este es un bloque que se ejecutará si el bloque \"Try\" funcionó corrió correctamente; por ejemplo es un buen moemento para porner un \"break\""
   ]
  },
  {
   "cell_type": "code",
   "execution_count": 16,
   "metadata": {},
   "outputs": [
    {
     "name": "stdout",
     "output_type": "stream",
     "text": [
      "Algo salió mal ValueError, uno de los operadores que ingresaste está mal\n",
      "Algo salió mal, ocurrió un ZeroDivisionError, no se puede dividir por 0\n",
      "8/4 = 2.0\n",
      "La operación se ejecutó correctamente\n"
     ]
    }
   ],
   "source": [
    "while True:\n",
    "    try:\n",
    "        n = int(input(\"Ingrese un número n: \"))\n",
    "        m = int(input(\"Ingrese un número m: \"))\n",
    "        print(f\"{n}/{m} = {n/m}\")\n",
    "    except ValueError as x:\n",
    "        print(f\"Algo salió mal {type(x).__name__}, uno de los operadores que ingresaste está mal\")\n",
    "    except ZeroDivisionError as d:\n",
    "        print(f\"Algo salió mal, ocurrió un {type(d).__name__}, no se puede dividir por 0\")\n",
    "    else:\n",
    "        print(\"La operación se ejecutó correctamente\")\n",
    "        break"
   ]
  }
 ],
 "metadata": {
  "kernelspec": {
   "display_name": "Python 3",
   "language": "python",
   "name": "python3"
  },
  "language_info": {
   "codemirror_mode": {
    "name": "ipython",
    "version": 3
   },
   "file_extension": ".py",
   "mimetype": "text/x-python",
   "name": "python",
   "nbconvert_exporter": "python",
   "pygments_lexer": "ipython3",
   "version": "3.9.6"
  }
 },
 "nbformat": 4,
 "nbformat_minor": 2
}
