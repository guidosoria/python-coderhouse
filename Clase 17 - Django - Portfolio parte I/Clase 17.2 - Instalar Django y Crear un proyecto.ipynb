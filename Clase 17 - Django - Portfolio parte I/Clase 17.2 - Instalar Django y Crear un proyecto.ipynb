{
 "cells": [
  {
   "cell_type": "markdown",
   "metadata": {},
   "source": [
    "# Instalar Django"
   ]
  },
  {
   "cell_type": "code",
   "execution_count": null,
   "metadata": {
    "vscode": {
     "languageId": "plaintext"
    }
   },
   "outputs": [],
   "source": [
    "pip install django\n",
    "\n",
    "#Comprobar instalación\n",
    "python\n",
    "import django\n",
    "django.VERSION"
   ]
  },
  {
   "cell_type": "markdown",
   "metadata": {},
   "source": [
    "# Pasos para crear nuestro proyecto\n",
    "##### 1 - Crear carpeta, por ejemplo \"PythonProyecto1\"\n",
    "##### 2 - Iniciar VSC o el IDE que estemos utilizando y pararse en la carpeta\n",
    "##### 3 - Escribir en el terminal python3 -m django startproject \"PythonProyecto1\""
   ]
  },
  {
   "cell_type": "markdown",
   "metadata": {},
   "source": [
    "### Resultado\n",
    "##### Nos debería de aparecer una carpeta con el nombre del proyecto, en nuestro caso \"PythonProyecto1\" y un archivo \"manage.py\"\n",
    "##### En la carpeta encontraremos varios archivos .py como por ejemplo \"_ _init_ _.py\" para que se sepa que es un paquete, settings.py para manipular la configuración, y otros que nos serán de utilidad"
   ]
  },
  {
   "cell_type": "markdown",
   "metadata": {},
   "source": [
    "##### 4 - Tipeamos en nuestro terminal \"python3 manage.py migrate\". Esto hace que todo cambio que hayamos hecho en nuestro modelo se aplique en la base de datos; en este caso al iniciar va a cargar la base de datos default como viene configurada para Django\n",
    "##### 5 - Verificamos con: \"python3 manage.py runserver\""
   ]
  }
 ],
 "metadata": {
  "language_info": {
   "name": "python"
  }
 },
 "nbformat": 4,
 "nbformat_minor": 2
}
