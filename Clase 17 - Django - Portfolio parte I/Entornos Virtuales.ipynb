{
 "cells": [
  {
   "cell_type": "markdown",
   "metadata": {},
   "source": [
    "# Entornos Virtuales\n",
    "\n",
    "#### Un entorno virtual en programación, especialmente en Python, es una herramienta que te permite crear un espacio aislado para instalar dependencias y bibliotecas específicas para un proyecto. Esto asegura que las versiones de las librerías que uses en un proyecto no interfieran con las de otros proyectos, evitando conflictos de versiones o incompatibilidades\n",
    "\n",
    "### VENTAJAS\n",
    "#### __Aislamiento:__ Evita conflictos entre bibliotecas o versiones de diferentes proyectos\n",
    "#### __Portabilidad:__ Facilita la recreación del entorno en otro sistema o máquina\n",
    "#### __Limpieza:__ Mantiene las dependencias organizadas y evita \"ensuciar\" el entorno global de Python"
   ]
  },
  {
   "cell_type": "markdown",
   "metadata": {},
   "source": [
    "## Cómo crear un entorno virtual\n",
    "#### python -m venv nombre_del_entorno\n",
    "\n",
    "## Activar el entorno virtual\n",
    "#### source nombre_del_entorno/bin/activate"
   ]
  },
  {
   "cell_type": "markdown",
   "metadata": {},
   "source": [
    "#### Cuando creamos un nuevo entorno virtual en Python, se crea limpio, es decir, vacío de cualquier biblioteca adicional que hayamos instalado en la máquina globalmente. Lo único que incluye el entorno virtual es una copia básica del intérprete de Python y las herramientas esenciales como pip (para instalar paquetes) y setuptools (para gestionar las instalaciones).\n",
    "\n",
    "#### Esto significa que, aunque en la instalación global de Python tengas ciertas bibliotecas instaladas, en el nuevo entorno virtual no estarán presentes hasta que las instalemos manualmente usando pip. El propósito es justamente aislar nuestro entorno virtual del entorno global de la máquina, para evitar conflictos de versiones o dependencias"
   ]
  }
 ],
 "metadata": {
  "language_info": {
   "name": "python"
  }
 },
 "nbformat": 4,
 "nbformat_minor": 2
}
