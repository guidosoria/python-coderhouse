{
 "cells": [
  {
   "cell_type": "markdown",
   "metadata": {},
   "source": [
    "# Funciones\n",
    "#### Cuando creamos nuestros propios programas nos damos cuenta que muchas de las tareas que implementamos se repiten o se presentan de forma similar pero con algunos cambios\n",
    "#### Entonces surge la necesidad agrupar este código repetido o similar; a esto le llamamos \"funciones\", las cuales pueden ser ejecutadas múltiples veces utilizando su nombre que las identifica"
   ]
  },
  {
   "cell_type": "markdown",
   "metadata": {},
   "source": [
    "#### Para comunicarse con nuestro proceso principal, las funciones pueden recibir y devolver datos manipulados. Un ejemplo de una función es \"len()\" que nos permite saber la cantidad de elementos de una colección; recordemos que a esta función hay que pasarle un elemento como argumento"
   ]
  },
  {
   "cell_type": "markdown",
   "metadata": {},
   "source": [
    "## DEF\n",
    "#### La sentencia \"def\" sirve para crear funciones definidas por el usuario\n",
    "###### def NOMBRE(Parámetros)\n",
    "######    SENTENCIAS\n",
    "######    RETURN[Expresión]"
   ]
  },
  {
   "cell_type": "markdown",
   "metadata": {},
   "source": [
    "#### NOMBRE: Es el nombre de la función\n",
    "#### PARÁMETRO: Los argumentos que acepta la función y que luego serán utizados en la misma\n",
    "#### SENTENCIAS: El bloque de código\n",
    "#### RETURN: Es una sentencia de Python, le indica a la función qué devolver cuando llamamos a la función --> Puede no estar y no retornar nada\n",
    "#### EXPRESIÓN: Es lo que devuelve la sentencia \"return\" "
   ]
  },
  {
   "cell_type": "code",
   "execution_count": 1,
   "metadata": {},
   "outputs": [
    {
     "name": "stdout",
     "output_type": "stream",
     "text": [
      "Estoy saludando\n"
     ]
    }
   ],
   "source": [
    "def saludar():\n",
    "    print(\"Estoy saludando\")\n",
    "\n",
    "saludar()"
   ]
  },
  {
   "cell_type": "code",
   "execution_count": 4,
   "metadata": {},
   "outputs": [
    {
     "name": "stdout",
     "output_type": "stream",
     "text": [
      "Hola Guido cómo estás?\n"
     ]
    }
   ],
   "source": [
    "def saludar_con_nombre(nombre):\n",
    "    saludando = print(f\"Hola {nombre} cómo estás?\")\n",
    "    return(saludando)\n",
    "\n",
    "saludar_con_nombre(\"Guido\")"
   ]
  },
  {
   "cell_type": "markdown",
   "metadata": {},
   "source": [
    "## Variables y funciones\n",
    "##### VARIABLES LOCALES: Son las variables que se definen dentro de la función y solo existen dentro de la función, esta muere cuando termina la función\n",
    "##### VARIABLES GLOBALES: Son las que definimos en nuestro programa; estas pueden ser utilizadas dentro de una función"
   ]
  },
  {
   "cell_type": "markdown",
   "metadata": {},
   "source": [
    "## RETURN\n",
    "##### Las funciones pueden comunicarse con el exterior de las mismas, al proceso principal usando la sentencia \"return\". La comunicación con el exterior se hace devolviendo valores\n",
    "##### Sin embargo, hay que tener en cuenta que la función termina al devolver un valor, es decir, lo que escribamos después no se ejecutará"
   ]
  },
  {
   "cell_type": "code",
   "execution_count": 5,
   "metadata": {},
   "outputs": [
    {
     "name": "stdout",
     "output_type": "stream",
     "text": [
      "Hola Guido cómo estás?\n"
     ]
    }
   ],
   "source": [
    "def saludar_con_nombre(nombre):\n",
    "    saludando = print(f\"Hola {nombre} cómo estás?\")\n",
    "    return saludando\n",
    "    print(\"Hola Mundo\") # Esto no se ejecutará\n",
    "\n",
    "saludar_con_nombre(\"Guido\")"
   ]
  },
  {
   "cell_type": "markdown",
   "metadata": {},
   "source": [
    "#### La lista puede devolver cualquier tipo de dato como por ej. una lista; y una característica interesante, es la posibilidad de devolver valores múltiples separados por \",\"\n",
    "#### En este caso la función nos devuelve una tupla"
   ]
  },
  {
   "cell_type": "code",
   "execution_count": 11,
   "metadata": {},
   "outputs": [
    {
     "name": "stdout",
     "output_type": "stream",
     "text": [
      "('Python', 25, [1, 2, 3])\n"
     ]
    },
    {
     "data": {
      "text/plain": [
       "tuple"
      ]
     },
     "execution_count": 11,
     "metadata": {},
     "output_type": "execute_result"
    }
   ],
   "source": [
    "def test():\n",
    "    return \"Python\", 25, [1, 2, 3]\n",
    "\n",
    "print(test())\n",
    "\n",
    "type(test())"
   ]
  },
  {
   "cell_type": "code",
   "execution_count": 7,
   "metadata": {},
   "outputs": [
    {
     "name": "stdout",
     "output_type": "stream",
     "text": [
      "[2, 3]\n"
     ]
    }
   ],
   "source": [
    "def lista():\n",
    "    return [1,2,3,4,5]\n",
    "\n",
    "print(lista()[1:3])"
   ]
  }
 ],
 "metadata": {
  "kernelspec": {
   "display_name": "Python 3",
   "language": "python",
   "name": "python3"
  },
  "language_info": {
   "codemirror_mode": {
    "name": "ipython",
    "version": 3
   },
   "file_extension": ".py",
   "mimetype": "text/x-python",
   "name": "python",
   "nbconvert_exporter": "python",
   "pygments_lexer": "ipython3",
   "version": "3.9.6"
  }
 },
 "nbformat": 4,
 "nbformat_minor": 2
}
