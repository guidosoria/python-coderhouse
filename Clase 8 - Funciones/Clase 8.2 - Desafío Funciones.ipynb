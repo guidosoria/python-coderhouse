{
 "cells": [
  {
   "cell_type": "markdown",
   "metadata": {},
   "source": [
    "# Desafíos Funciones"
   ]
  },
  {
   "cell_type": "markdown",
   "metadata": {},
   "source": [
    "## WELCOME\n",
    "#### Escribir una función a la que se le pase una cadena del nombre de una ciudad y muestre por pantalla el saludo \"Hola bienvenido a CIUDAD\""
   ]
  },
  {
   "cell_type": "code",
   "execution_count": 5,
   "metadata": {},
   "outputs": [
    {
     "name": "stdout",
     "output_type": "stream",
     "text": [
      "Hola bienvenido a Montevideo\n"
     ]
    }
   ],
   "source": [
    "def welcome(ciudad):\n",
    "    print(f\"Hola bienvenido a {ciudad}\")\n",
    "\n",
    "city = input(\"Ingresa una ciudad: \")\n",
    "welcome(city)"
   ]
  },
  {
   "cell_type": "markdown",
   "metadata": {},
   "source": [
    "## MEDIA\n",
    "#### Escribir una función que reciba una muestra de números de una lista y devuelva su media"
   ]
  },
  {
   "cell_type": "code",
   "execution_count": 15,
   "metadata": {},
   "outputs": [
    {
     "data": {
      "text/plain": [
       "6.0"
      ]
     },
     "execution_count": 15,
     "metadata": {},
     "output_type": "execute_result"
    }
   ],
   "source": [
    "num1 =float(input(\"Ingrese un número: \"))\n",
    "num2 =float(input(\"Ingrese un número: \"))\n",
    "\n",
    "def media(x):\n",
    "    r = (x[0] + x[1]) / 2\n",
    "    return r\n",
    "\n",
    "lista = [num1, num2]\n",
    "media(lista)"
   ]
  },
  {
   "cell_type": "markdown",
   "metadata": {},
   "source": [
    "## ES MÚLTIPLO\n",
    "#### Crea un programa que le pida dos números enteros al usuario y diga por consola si alguno de ellos es múltiplo del otro; la función debe llamarse es_multiplo"
   ]
  },
  {
   "cell_type": "code",
   "execution_count": 19,
   "metadata": {},
   "outputs": [
    {
     "name": "stdout",
     "output_type": "stream",
     "text": [
      "El número 12 es múltiplpo de 3\n"
     ]
    }
   ],
   "source": [
    "def es_multiplo(x, y):\n",
    "    if x % y == 0:\n",
    "        print(f\"El número {x} es múltiplpo de {y}\")\n",
    "    elif y % x == 0:\n",
    "        print(f\"El número {y} es múltiplpo de {x}\")\n",
    "    else:\n",
    "        print(f\"Los números {x} e {y} nos múltiplos uno del otro\")\n",
    "\n",
    "num1 = int(input(\"Ingresa un número entero: \"))\n",
    "num2 = int(input(\"Ingresa otro número entero para saber si el anterior es múltiplo de éste\"))\n",
    "es_multiplo(num1, num2)"
   ]
  }
 ],
 "metadata": {
  "kernelspec": {
   "display_name": "Python 3",
   "language": "python",
   "name": "python3"
  },
  "language_info": {
   "codemirror_mode": {
    "name": "ipython",
    "version": 3
   },
   "file_extension": ".py",
   "mimetype": "text/x-python",
   "name": "python",
   "nbconvert_exporter": "python",
   "pygments_lexer": "ipython3",
   "version": "3.9.6"
  }
 },
 "nbformat": 4,
 "nbformat_minor": 2
}
