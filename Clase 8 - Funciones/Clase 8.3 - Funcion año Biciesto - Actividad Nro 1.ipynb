{
 "cells": [
  {
   "cell_type": "markdown",
   "metadata": {},
   "source": [
    "# Función año Biciesto\n",
    "### Consigna\n",
    "Realizar una función llamada ano_biciesto:\n",
    "- Recibirá un año como parámetro\n",
    "- Imprimirá \"El año es biciesto\" si el año es biciesto\n",
    "- Imprimirá \"El año no es biciesto\" si el año no es biciesto\n",
    "- Si se ingresa algo que no sea número, debe indicar que se ingrese un número\n",
    "\n",
    "Información a tener en cuenta:\n",
    "    Se recuerda los años biciestos son múltiplos de 4, pero los múltiplos de 100 no lo son, aunque los múltiplos de 400 si\n"
   ]
  },
  {
   "cell_type": "code",
   "execution_count": 7,
   "metadata": {},
   "outputs": [
    {
     "name": "stdout",
     "output_type": "stream",
     "text": [
      "El año es biciesto\n"
     ]
    }
   ],
   "source": [
    "ano = int(input(\"Ingresa un año con su número para saber si es biciesto: \"))\n",
    "\n",
    "def ano_biciesto(i):\n",
    "    if i % 4 == 0:\n",
    "        if i % 100 == 0 and i % 400 != 0:\n",
    "            return \"El año no es biciesto\"\n",
    "        else:\n",
    "            return \"El año es biciesto\"\n",
    "    else:\n",
    "        return \"El año no es biciesto\"\n",
    "\n",
    "print(ano_biciesto(ano))"
   ]
  }
 ],
 "metadata": {
  "kernelspec": {
   "display_name": "Python 3",
   "language": "python",
   "name": "python3"
  },
  "language_info": {
   "codemirror_mode": {
    "name": "ipython",
    "version": 3
   },
   "file_extension": ".py",
   "mimetype": "text/x-python",
   "name": "python",
   "nbconvert_exporter": "python",
   "pygments_lexer": "ipython3",
   "version": "3.9.6"
  }
 },
 "nbformat": 4,
 "nbformat_minor": 2
}
