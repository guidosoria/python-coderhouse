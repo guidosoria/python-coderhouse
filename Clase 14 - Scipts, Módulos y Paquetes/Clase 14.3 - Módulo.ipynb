{
 "cells": [
  {
   "cell_type": "markdown",
   "metadata": {},
   "source": [
    "# Módulo\n",
    "##### Es un archivo que contiene código Python. Puede definir funciones, clases y variables. También puede incluir código ejecutable\n",
    "##### Se trata de un archivo __.py__ o __.pyc__ (Python complilado) que posee su propio espacio de nombres y que puede contener funciones, variables, clases e incluso otros módulos"
   ]
  },
  {
   "cell_type": "markdown",
   "metadata": {},
   "source": [
    "### ¿Para que sirve?\n",
    "##### Nos permite organizar lógicamente el código Python. Agrupar el código relacionado en un módulo hace que el código sea mas fácil de entender y usar. Sirve para organizar y reutilizar el código (modularización y reutilización)\n",
    "##### Un módulo en Python es un objeto con atributos de nombres arbitrarios que se pueden enlazar y luego referenciar"
   ]
  }
 ],
 "metadata": {
  "language_info": {
   "name": "python"
  }
 },
 "nbformat": 4,
 "nbformat_minor": 2
}
