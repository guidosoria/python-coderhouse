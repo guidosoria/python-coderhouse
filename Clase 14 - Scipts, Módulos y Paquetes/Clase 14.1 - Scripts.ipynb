{
 "cells": [
  {
   "cell_type": "markdown",
   "metadata": {},
   "source": [
    "# Scripts\n",
    "##### Un scriopt es un __\"guión\"__ con instrucciones de códico, guardado con un nombre y ejecutado desde el intérprete (ide). Estos scripts pueden tomar datos (argumentos) en el momento de la ejecución"
   ]
  },
  {
   "cell_type": "markdown",
   "metadata": {},
   "source": [
    "### Scripts con Argumentos\n",
    "##### Los datos que se van a enviar se denominan __argumentos__. Son valores que se pasan al ejecutar un script para que este mismo después los utilice en lo que sea que haya programado"
   ]
  },
  {
   "cell_type": "markdown",
   "metadata": {},
   "source": [
    "### Pasar Argumentos a un Script\n",
    "##### Mediante la consola: __python primer_script.py argumentos__"
   ]
  }
 ],
 "metadata": {
  "language_info": {
   "name": "python"
  }
 },
 "nbformat": 4,
 "nbformat_minor": 2
}
