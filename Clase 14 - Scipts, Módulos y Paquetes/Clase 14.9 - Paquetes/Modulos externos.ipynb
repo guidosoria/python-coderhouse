{
 "cells": [
  {
   "cell_type": "markdown",
   "metadata": {},
   "source": [
    "# Collections\n",
    "### ¿Que es?\n",
    "##### Python 3 tiene varias estructuras de datos integradas; incluyendo tuplas, diccionarios y listas\n",
    "##### Las estructuras de datos nos proporcionan una forma de organizar y almacenar datos. El módulo collections nos ayuda a completar y manipular las estructuras de datos de forma eficiente\n",
    "##### Para usarlo debemos importarlo, ya que es un paquete con módulos: _from collections import *_"
   ]
  },
  {
   "cell_type": "markdown",
   "metadata": {},
   "source": [
    "### Namedtuple\n",
    "##### Sirve para crear subclases de tuplas con campos nombrados. Esto permite acceder a los elementos de la tupla no solo por su posición, sino también por un nombre significativo"
   ]
  },
  {
   "cell_type": "code",
   "execution_count": 5,
   "metadata": {},
   "outputs": [
    {
     "name": "stdout",
     "output_type": "stream",
     "text": [
      "Juan\n",
      "30\n",
      "Madrid\n",
      "\n",
      "\n",
      "Juan\n",
      "30\n",
      "Madrid\n"
     ]
    }
   ],
   "source": [
    "from collections import namedtuple\n",
    "\n",
    "# Crear un namedtuple llamado 'Persona' con campos 'nombre', 'edad' y 'ciudad'\n",
    "Persona = namedtuple('Persona', ['nombre', 'edad', 'ciudad'])\n",
    "\n",
    "# Crear una instancia de Persona\n",
    "persona1 = Persona(nombre='Juan', edad=30, ciudad='Madrid')\n",
    "\n",
    "# Acceder a los campos por nombre\n",
    "print(persona1.nombre)  # Salida: Juan\n",
    "print(persona1.edad)    # Salida: 30\n",
    "print(persona1.ciudad)  # Salida: Madrid\n",
    "\n",
    "print(\"\\n\")\n",
    "\n",
    "# También se puede acceder por índice como en una tupla normal\n",
    "print(persona1[0])  # Salida: Juan\n",
    "print(persona1[1])  # Salida: 30\n",
    "print(persona1[2])  # Salida: Madrid\n"
   ]
  },
  {
   "cell_type": "markdown",
   "metadata": {},
   "source": [
    "# Counter\n",
    "##### Es una subclase de diccionario utilizada para realizar cuentas con diccionarios y listas. Con Counter podemos contar cuantas veces aparece algo en una lista o diccionario\n",
    "##### El resultado es un diccionario donde ese \"algo\" es la clave y el valor es la cantidad de repeticiones"
   ]
  },
  {
   "cell_type": "code",
   "execution_count": 6,
   "metadata": {},
   "outputs": [
    {
     "name": "stdout",
     "output_type": "stream",
     "text": [
      "Counter({'Juan': 3, 'Pedro': 2, 'Maria': 1})\n"
     ]
    }
   ],
   "source": [
    "from collections import Counter\n",
    "\n",
    "nombres = [\"Juan\", \"Maria\", \"Pedro\", \"Juan\", \"Juan\", \"Pedro\"]\n",
    "print(Counter(nombres))\n"
   ]
  },
  {
   "cell_type": "markdown",
   "metadata": {},
   "source": [
    "### Otras funciones\n",
    "##### Este paquete tiene muchas otras funcionalidades como __ordenar, agrupar y rankear registros en un diccionario__"
   ]
  },
  {
   "cell_type": "markdown",
   "metadata": {},
   "source": [
    "# Datatime\n",
    "##### Nos sirve para manejar fechas y horas de una forma muy simple"
   ]
  },
  {
   "cell_type": "code",
   "execution_count": 11,
   "metadata": {},
   "outputs": [
    {
     "name": "stdout",
     "output_type": "stream",
     "text": [
      "2024-06-05 13:06:45.472016\n",
      "Año 2024\n",
      "Mes 6\n",
      "Dia 5\n",
      "Hora 13\n",
      "Minuto 6\n",
      "Segundos 45\n",
      "Microsegundos 472016\n"
     ]
    }
   ],
   "source": [
    "from datetime import datetime\n",
    "\n",
    "dt = datetime.now()\n",
    "print(dt)\n",
    "print(\"Año\", dt.year)\n",
    "print(\"Mes\", dt.month)\n",
    "print(\"Dia\", dt.day)\n",
    "print(\"Hora\", dt.hour)\n",
    "print(\"Minuto\", dt.minute)\n",
    "print(\"Segundos\", dt.second)\n",
    "print(\"Microsegundos\", dt.microsecond)"
   ]
  },
  {
   "cell_type": "markdown",
   "metadata": {},
   "source": [
    "# __ Ver clase 14: Math y Random__"
   ]
  }
 ],
 "metadata": {
  "kernelspec": {
   "display_name": "Python 3",
   "language": "python",
   "name": "python3"
  },
  "language_info": {
   "codemirror_mode": {
    "name": "ipython",
    "version": 3
   },
   "file_extension": ".py",
   "mimetype": "text/x-python",
   "name": "python",
   "nbconvert_exporter": "python",
   "pygments_lexer": "ipython3",
   "version": "3.9.6"
  }
 },
 "nbformat": 4,
 "nbformat_minor": 2
}
