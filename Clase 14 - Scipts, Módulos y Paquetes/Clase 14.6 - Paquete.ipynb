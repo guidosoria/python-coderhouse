{
 "cells": [
  {
   "cell_type": "markdown",
   "metadata": {},
   "source": [
    "# Paquete\n",
    "##### Guardar todos los módulos en la misma “carpeta” puede ser muy tedioso y difícil de administrar, imaginemos que tenemos 100 módulos; nuestra carpeta estaría plagada de archivos .py\n",
    "##### Para eso aparecen los __paquetes__, no son otra cosa que __carpetas para organizar los módulos, por categorías__.\n",
    "##### Crear un paquete es muy sencillo, solo tenemos que crear una carpeta y dentro de ella deberas tener un archivo __init__.py\n"
   ]
  },
  {
   "cell_type": "markdown",
   "metadata": {},
   "source": [
    "### Ejemplo Paso a Paso - Nuestro Primer Paquete\n",
    "##### __1__ Creamos una carpeta llamada \"mi_primer_paquete\" con un archivo __init__.py\n",
    "##### __2__ Ahora hagamos dos módulos en el paquete; modulo1 y modulo2\n",
    "##### __3__ Para llamar al paquete y sus módulos creamos un archivo en el directorio raiz y lo llamaremos \"menu.py\"\n",
    "##### __4__ Importamos al paquete y los módulos de la siguiente manera\n",
    "    from mi_primer_paquete.modulo1 import Persona\n",
    "    from mi_primer_paquete.modulo2 import llamado_modulo2\n",
    "\n",
    "\n",
    "##### __VER RESULTADO EN CARPETA mi_primer_paquete__"
   ]
  }
 ],
 "metadata": {
  "language_info": {
   "name": "python"
  }
 },
 "nbformat": 4,
 "nbformat_minor": 2
}
