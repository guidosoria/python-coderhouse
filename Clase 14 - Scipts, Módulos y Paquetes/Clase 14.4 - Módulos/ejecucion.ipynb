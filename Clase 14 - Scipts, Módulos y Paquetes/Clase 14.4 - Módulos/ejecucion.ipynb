{
 "cells": [
  {
   "cell_type": "markdown",
   "metadata": {},
   "source": [
    "### Al momento de importar los módulos en nuestra ejecución tenemos dos formas de hacerlo y eso cambia la forma en la que utilizaremos su contenido\n",
    "\n",
    "##### __IMPORT__\n",
    "\n",
    "##### En este caso importamos el módulo y luego para acceder a un elemento del mismo debemos utilizar: __modulo.elemento__\n"
   ]
  },
  {
   "cell_type": "code",
   "execution_count": 1,
   "metadata": {},
   "outputs": [
    {
     "name": "stdout",
     "output_type": "stream",
     "text": [
      "El resultado de la suma es: 4\n"
     ]
    }
   ],
   "source": [
    "import funciones_matematica\n",
    "\n",
    "funciones_matematica.sumar(2,2)"
   ]
  },
  {
   "cell_type": "markdown",
   "metadata": {},
   "source": [
    "##### __FROM__\n",
    "##### Con el from podemos importar un elemento (o todos) y luego los utilizaremos sin tener que hacer referencia a dicho módulo"
   ]
  },
  {
   "cell_type": "code",
   "execution_count": 15,
   "metadata": {},
   "outputs": [
    {
     "name": "stdout",
     "output_type": "stream",
     "text": [
      "El resultado de la suma es: 15\n"
     ]
    }
   ],
   "source": [
    "from funciones_matematica import sumar\n",
    "\n",
    "sumar(10, 5)"
   ]
  },
  {
   "cell_type": "code",
   "execution_count": null,
   "metadata": {},
   "outputs": [],
   "source": [
    "from funciones_matematica import *\n",
    "\n",
    "restar(10, 5)"
   ]
  }
 ],
 "metadata": {
  "kernelspec": {
   "display_name": "Python 3",
   "language": "python",
   "name": "python3"
  },
  "language_info": {
   "codemirror_mode": {
    "name": "ipython",
    "version": 3
   },
   "file_extension": ".py",
   "mimetype": "text/x-python",
   "name": "python",
   "nbconvert_exporter": "python",
   "pygments_lexer": "ipython3",
   "version": "3.9.6"
  }
 },
 "nbformat": 4,
 "nbformat_minor": 2
}
