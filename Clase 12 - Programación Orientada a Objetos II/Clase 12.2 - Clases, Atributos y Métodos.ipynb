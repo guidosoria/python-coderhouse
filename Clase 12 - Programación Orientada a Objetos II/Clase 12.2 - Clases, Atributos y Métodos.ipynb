{
 "cells": [
  {
   "cell_type": "markdown",
   "metadata": {},
   "source": [
    "# Clases\n",
    "### Crear una clase\n",
    "##### Primero crearemos una clase, en este caso \"perro\"; esto se trata de una clase vacía y sin mucha utilida práctica, pero es la mínima clase que podemos crear. El uso del PASS realmente no tiene utilidad pero Python nos daría error si no tenemos código dentro del bloque"
   ]
  },
  {
   "cell_type": "code",
   "execution_count": 1,
   "metadata": {},
   "outputs": [],
   "source": [
    "class Perro:\n",
    "    pass"
   ]
  },
  {
   "cell_type": "markdown",
   "metadata": {},
   "source": [
    "### Instanciar una clase\n",
    "##### Ahora que tenemos la clase, podemos crear uno o más objetos de la misma, como si de una variable normal se tratase\n",
    "##### Nombre de la variable igual a la clase con (); dentro de los paréntesis irían los parámetros de entrada si los hubiese"
   ]
  },
  {
   "cell_type": "code",
   "execution_count": 3,
   "metadata": {},
   "outputs": [
    {
     "name": "stdout",
     "output_type": "stream",
     "text": [
      "<class '__main__.Perro'>\n",
      "<class '__main__.Perro'>\n"
     ]
    }
   ],
   "source": [
    "class Perro:\n",
    "    pass\n",
    "\n",
    "perro1 = Perro()\n",
    "perro2 = Perro()\n",
    "\n",
    "print(type(perro1))\n",
    "print(type(perro2))"
   ]
  },
  {
   "cell_type": "markdown",
   "metadata": {},
   "source": [
    "# Atributos\n",
    "### A la hora de añadir atributos a la clase es importante distinguir entre dos tipos:\n",
    "##### - Atributos de Instancia: Pertenecen a la misma instancia de la clase o al objeto. Son atributos particulares de cada instancia, en nuestro caso de cada perro\n",
    "##### - Atributos de clase: Pertenecen a la clase, por lo tanto serán comunes para todos los objetos"
   ]
  },
  {
   "cell_type": "markdown",
   "metadata": {},
   "source": [
    "### Asignando atributos de instancia\n",
    "##### Empecemos creando el nombre y la raza del perro. Esto se suele hacer por un método __init__ que será llamado automáticamente cuando se cree un objeto. No se le puede cambiar el nombre y tiene su definición propia: \"constructor\""
   ]
  },
  {
   "cell_type": "code",
   "execution_count": null,
   "metadata": {},
   "outputs": [],
   "source": [
    "class Perro:\n",
    "    \n",
    "    #Constructor de la clase\n",
    "    def __init__(self, nombre, raza):\n",
    "        # Atributos de la instancia\n",
    "        self.nombre = nombre\n",
    "        self.raza = raza"
   ]
  },
  {
   "cell_type": "markdown",
   "metadata": {},
   "source": [
    "### ¿ Que es la variable SELF ?\n",
    "##### Es una variable que representa la instancia (en este caso \"perro1\" es una instancia de la clase \"Perro\") de la clase y deberá estar siempre ahí\n",
    "##### El uso de __init__ y el doble \"_\" no es una coicidencia. Cuando veamos un método con esa forma, significa que está reservado para un caso especial del lenguaje. En este caso sería lo que se conoce como \"constructor\""
   ]
  },
  {
   "cell_type": "markdown",
   "metadata": {},
   "source": [
    "### Asignando Atributos de Clase\n",
    "##### Hasta ahora definimos atributos que pertenecen a cada perro en concreto, ahora definiremos un atributo de clase, que será común para todos los perro; por ejemplo \"especie\""
   ]
  },
  {
   "cell_type": "code",
   "execution_count": 4,
   "metadata": {},
   "outputs": [],
   "source": [
    "class Perro:\n",
    "    #Atributos de Clase\n",
    "    especie = \"Mamífero\"\n",
    "\n",
    "    #Constructor de la clase - Atributos de Instancia\n",
    "    def __init__(self, nombre, raza):\n",
    "        # Atributos de la instancia\n",
    "        self.nombre = nombre\n",
    "        self.raza = raza"
   ]
  },
  {
   "cell_type": "markdown",
   "metadata": {},
   "source": [
    "### Estructura final de una clase con atributos"
   ]
  },
  {
   "cell_type": "code",
   "execution_count": 7,
   "metadata": {},
   "outputs": [
    {
     "name": "stdout",
     "output_type": "stream",
     "text": [
      "Su nombre es: Sammy, su raza es Caniche y su especie es Mamífero\n"
     ]
    }
   ],
   "source": [
    "class Perro:\n",
    "    #Atributos de Clase\n",
    "    especie = \"Mamífero\"\n",
    "\n",
    "    #Constructor de la clase - Atributos de Instancia\n",
    "    def __init__(self, nombre, raza):\n",
    "        # Atributos de la instancia\n",
    "        self.nombre = nombre\n",
    "        self.raza = raza\n",
    "    \n",
    "    perro1 = Perro(\"Sammy\", \"Caniche\")\n",
    "\n",
    "    print(f\"Su nombre es: {perro1.nombre}, su raza es {perro1.raza} y su especie es {perro1.especie}\")"
   ]
  },
  {
   "cell_type": "markdown",
   "metadata": {},
   "source": [
    "# Métodos\n",
    "### Definiendo métodos\n",
    "##### Para definir un método podemos hacerlo con \"def \"nombre de metodo\" y entre \"()\" los parametros de entrada que recibe, donde siempre tendrá que estar el \"self\""
   ]
  },
  {
   "cell_type": "code",
   "execution_count": 10,
   "metadata": {},
   "outputs": [
    {
     "name": "stdout",
     "output_type": "stream",
     "text": [
      "Su nombre es: Sammy, su raza es Caniche y su especie es Mamífero\n",
      "Guau\n",
      "Caminando 5 pasos\n"
     ]
    }
   ],
   "source": [
    "class Perro:\n",
    "    #Atributos de Clase\n",
    "    especie = \"Mamífero\"\n",
    "\n",
    "    #Constructor de la clase - Atributos de Instancia\n",
    "    def __init__(self, nombre, raza):\n",
    "        # Atributos de la instancia\n",
    "        self.nombre = nombre\n",
    "        self.raza = raza\n",
    "    \n",
    "\n",
    "    #Métodos\n",
    "    def ladrar(self):\n",
    "        print(\"Guau\")\n",
    "\n",
    "    def caminar(self, pasos):\n",
    "        print(f\"Caminando {pasos} pasos\")\n",
    "    \n",
    "perro1 = Perro(\"Sammy\", \"Caniche\")\n",
    "\n",
    "print(f\"Su nombre es: {perro1.nombre}, su raza es {perro1.raza} y su especie es {perro1.especie}\")\n",
    "perro1.ladrar()\n",
    "perro1.caminar(5)"
   ]
  }
 ],
 "metadata": {
  "kernelspec": {
   "display_name": "Python 3",
   "language": "python",
   "name": "python3"
  },
  "language_info": {
   "codemirror_mode": {
    "name": "ipython",
    "version": 3
   },
   "file_extension": ".py",
   "mimetype": "text/x-python",
   "name": "python",
   "nbconvert_exporter": "python",
   "pygments_lexer": "ipython3",
   "version": "3.9.6"
  }
 },
 "nbformat": 4,
 "nbformat_minor": 2
}
