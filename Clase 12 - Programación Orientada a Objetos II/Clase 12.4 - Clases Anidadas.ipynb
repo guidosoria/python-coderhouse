{
 "cells": [
  {
   "cell_type": "markdown",
   "metadata": {},
   "source": [
    "# Relacion entre clases\n",
    "##### Cuando vimpos por qué trabajar con POO, comentamos lo fundamental de separar nuestro problema en problemas mas pequeños (Clases)\n",
    "##### Pero estos \"problemas\" no van a estar aislados, estarán relacionados entre sí. Por ejemplo un __perro__, suele ser la mascota de una __persona__"
   ]
  },
  {
   "cell_type": "code",
   "execution_count": 5,
   "metadata": {},
   "outputs": [
    {
     "name": "stdout",
     "output_type": "stream",
     "text": [
      "Mi nombre es Juan Fernandez\n"
     ]
    }
   ],
   "source": [
    "class Perro:\n",
    "    #Atributos de Clase\n",
    "    especie = \"Mamífero\"\n",
    "\n",
    "    #Constructor de la clase - Atributos de Instancia\n",
    "    def __init__(self, nombre, raza):\n",
    "        # Atributos de la instancia\n",
    "        self.nombre = nombre\n",
    "        self.raza = raza\n",
    "    \n",
    "    def __str__(self):\n",
    "        return f\"Nombre: {self.nombre}, Raza: {self.raza}, Especie: {self.especie}\"\n",
    "    \n",
    "\n",
    "    #Métodos\n",
    "    def ladrar(self):\n",
    "        print(\"Guau\")\n",
    "\n",
    "    def caminar(self, pasos):\n",
    "        print(f\"Caminando {pasos} pasos\")\n",
    "\n",
    "class Persona():\n",
    "    \n",
    "    def __init__(self, nombre, apellido, perro):\n",
    "        self.nombre = nombre\n",
    "        self.apellido = apellido\n",
    "        self.perro = perro\n",
    "    \n",
    "    def __str__(self):\n",
    "        return f\"Mi nombre es {self.nombre} {self.apellido} y mi perro es {self.perro}\"\n",
    "    \n",
    "    \n",
    "perro1 = Perro(\"Sammy\", \"Caniche\")\n",
    "\n",
    "persona1 = Persona(\"Juan\", \"Fernandez\", perro1)\n",
    "\n",
    "print(persona1)\n",
    "\n",
    "print()"
   ]
  }
 ],
 "metadata": {
  "kernelspec": {
   "display_name": "Python 3",
   "language": "python",
   "name": "python3"
  },
  "language_info": {
   "codemirror_mode": {
    "name": "ipython",
    "version": 3
   },
   "file_extension": ".py",
   "mimetype": "text/x-python",
   "name": "python",
   "nbconvert_exporter": "python",
   "pygments_lexer": "ipython3",
   "version": "3.9.6"
  }
 },
 "nbformat": 4,
 "nbformat_minor": 2
}
