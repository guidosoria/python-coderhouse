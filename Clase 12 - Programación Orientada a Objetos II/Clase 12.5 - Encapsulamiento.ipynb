{
 "cells": [
  {
   "cell_type": "markdown",
   "metadata": {},
   "source": [
    "# Encapsulamiento\n",
    "##### Es un concepto relacionado con la POO y hace referencia al ocultamiento de los estados internos de una clase al exterior. Dicho de otra manera, encapsular consiste en hacer que los atributos o métodos internos a una clase no se puedan acceder ni modificar desde fuera, sino que tan solo el propio objeto pueda acceder a ellos\n",
    "##### Python por defecto no oculta los atributos y métodos de una clase al exterior"
   ]
  },
  {
   "cell_type": "code",
   "execution_count": 1,
   "metadata": {},
   "outputs": [
    {
     "ename": "SyntaxError",
     "evalue": "invalid syntax (383331922.py, line 13)",
     "output_type": "error",
     "traceback": [
      "\u001b[0;36m  Cell \u001b[0;32mIn[1], line 13\u001b[0;36m\u001b[0m\n\u001b[0;31m    def edad(self)\u001b[0m\n\u001b[0m                  ^\u001b[0m\n\u001b[0;31mSyntaxError\u001b[0m\u001b[0;31m:\u001b[0m invalid syntax\n"
     ]
    }
   ],
   "source": [
    "class Persona:\n",
    "\n",
    "    tipo = \"Humano\" # Dato al que quiero que puedan acceder\n",
    "    __sueldo = 2000 #No quiero que accedan a esta información\n",
    "\n",
    "    def __init__(self, nombre, apellido):\n",
    "        self.nombre = nombre # No me molesta que sepan mi nombre\n",
    "        self.__apellido = apellido # No quiero que sepan mi apellido\n",
    "\n",
    "    def __soy_feliz(self):\n",
    "        print(\"No les importa!!!\")\n",
    "\n",
    "    def edad(self)\n",
    "        return 31 #Soy joven, aún no miento con mi edad\n",
    "    \n",
    "persona1 = Persona(\"Nicolas\", \"Lopez\")\n",
    "\n",
    "print(persona1.tipo)\n",
    "print(persona1.__sueldo)"
   ]
  },
  {
   "cell_type": "markdown",
   "metadata": {},
   "source": [
    "### Todo lo que esté privado (comience con doble \"_\") será imposible de acceder desde el exterior de la clase"
   ]
  }
 ],
 "metadata": {
  "kernelspec": {
   "display_name": "Python 3",
   "language": "python",
   "name": "python3"
  },
  "language_info": {
   "codemirror_mode": {
    "name": "ipython",
    "version": 3
   },
   "file_extension": ".py",
   "mimetype": "text/x-python",
   "name": "python",
   "nbconvert_exporter": "python",
   "pygments_lexer": "ipython3",
   "version": "3.9.6"
  }
 },
 "nbformat": 4,
 "nbformat_minor": 2
}
