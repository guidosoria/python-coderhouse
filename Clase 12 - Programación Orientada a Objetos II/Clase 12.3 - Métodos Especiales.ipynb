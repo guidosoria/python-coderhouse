{
 "cells": [
  {
   "cell_type": "markdown",
   "metadata": {},
   "source": [
    "# Métodos especiales"
   ]
  },
  {
   "cell_type": "markdown",
   "metadata": {},
   "source": [
    "### __init__\n",
    "##### El método más utilizado en las clases de Python es el \"constructor\". Empleado para crear cada una de las instancias de las clases. No tiene una cantidad fija de parámetros ya que esto depende de las propiedades que tenga el objeto"
   ]
  },
  {
   "cell_type": "code",
   "execution_count": 27,
   "metadata": {},
   "outputs": [
    {
     "name": "stdout",
     "output_type": "stream",
     "text": [
      "<__main__.Vector object at 0x10a8f0610>\n"
     ]
    }
   ],
   "source": [
    "class Vector():\n",
    "    def __init__(self, data):\n",
    "        self._data = data\n",
    "      \n",
    "v = Vector([1,2])\n",
    "print(v)\n"
   ]
  },
  {
   "cell_type": "markdown",
   "metadata": {},
   "source": [
    "### __str__\n",
    "##### Posiblemente el segundo método más utilizado, con el que se crea una representación del objeto con signidicado para las personas\n",
    "##### En el ejemplo anterior, al imprimir el objeto, se ha visto una cadena que indica el tipo de objeto y una dirección; esto generalmente no tiene sentido para las personas\n",
    "##### Un problema que podemos resolver con __str__"
   ]
  },
  {
   "cell_type": "code",
   "execution_count": 16,
   "metadata": {},
   "outputs": [
    {
     "name": "stdout",
     "output_type": "stream",
     "text": [
      "The values are: [1, 2]\n"
     ]
    }
   ],
   "source": [
    "class Vector():\n",
    "    def __init__(self, data):\n",
    "        self._data = data\n",
    "        \n",
    "        \n",
    "    def __str__(self):\n",
    "        return f\"The values are: {self._data}\"\n",
    "    \n",
    "    \n",
    "v = Vector([1,2])\n",
    "print(v)"
   ]
  },
  {
   "cell_type": "markdown",
   "metadata": {},
   "source": [
    "### __len__\n",
    "##### Podríamos utilizar esta función para obtener el número de elementos que tenga un objeto"
   ]
  },
  {
   "cell_type": "code",
   "execution_count": 18,
   "metadata": {},
   "outputs": [
    {
     "name": "stdout",
     "output_type": "stream",
     "text": [
      "2\n"
     ]
    }
   ],
   "source": [
    "class Vector():\n",
    "    def __init__(self, data):\n",
    "        self._data = data\n",
    "        \n",
    "        \n",
    "    def __str__(self):\n",
    "        return f\"The values are: {self._data}\"\n",
    "    \n",
    "    def __len__(self):\n",
    "        return len(self._data)\n",
    "    \n",
    "v = Vector([1,2])\n",
    "print(len(v))"
   ]
  },
  {
   "cell_type": "markdown",
   "metadata": {},
   "source": [
    "### __getitem__\n",
    "##### Permite que los usuarios puedan leer los elementos mediante el uso de corchetes. Este elemento necesita de un parámetro adicional, que es la pocisión del elemento a leer. La funcioón debe retornar el valor leído"
   ]
  },
  {
   "cell_type": "code",
   "execution_count": 25,
   "metadata": {},
   "outputs": [
    {
     "name": "stdout",
     "output_type": "stream",
     "text": [
      "1\n"
     ]
    }
   ],
   "source": [
    "class Vector():\n",
    "    def __init__(self, data):\n",
    "        self._data = data\n",
    "        \n",
    "        \n",
    "    def __str__(self):\n",
    "        return f\"The values are: {self._data}\"\n",
    "    \n",
    "    def __len__(self):\n",
    "        return len(self._data)\n",
    "    \n",
    "    def __getitem__(self, pos):\n",
    "        return self._data[pos]\n",
    "    \n",
    "v = Vector([1,2])\n",
    "print(v[0])"
   ]
  },
  {
   "cell_type": "markdown",
   "metadata": {},
   "source": [
    "### __setitem__\n",
    "##### Nos permite que se puedan modificar los elementos. En este caso es necesario pasar dos parámetros adicionales; la posición y el valor a reemplazar"
   ]
  },
  {
   "cell_type": "code",
   "execution_count": 26,
   "metadata": {},
   "outputs": [
    {
     "name": "stdout",
     "output_type": "stream",
     "text": [
      "1\n",
      "4\n"
     ]
    }
   ],
   "source": [
    "class Vector():\n",
    "    def __init__(self, data):\n",
    "        self._data = data\n",
    "        \n",
    "        \n",
    "    def __str__(self):\n",
    "        return f\"The values are: {self._data}\"\n",
    "    \n",
    "    def __len__(self):\n",
    "        return len(self._data)\n",
    "    \n",
    "    def __getitem__(self, pos):\n",
    "        return self._data[pos]\n",
    "    \n",
    "    def __setitem__(self, pos, value):\n",
    "        self._data[pos] = value\n",
    "    \n",
    "v = Vector([1,2])\n",
    "print(v[0])\n",
    "v[0] = 4\n",
    "print(v[0])"
   ]
  },
  {
   "cell_type": "markdown",
   "metadata": {},
   "source": [
    "### __iter__\n",
    "##### Hace que nuestra clase sea iterable, lo que permite usarla en bucles por ejemplo"
   ]
  },
  {
   "cell_type": "code",
   "execution_count": 32,
   "metadata": {},
   "outputs": [
    {
     "name": "stdout",
     "output_type": "stream",
     "text": [
      "Valor: 1\n",
      "Valor: 4\n"
     ]
    }
   ],
   "source": [
    "class Vector():\n",
    "    def __init__(self, data):\n",
    "        self._data = data\n",
    "        \n",
    "        \n",
    "    def __str__(self):\n",
    "        return f\"The values are: {self._data}\"\n",
    "    \n",
    "    def __len__(self):\n",
    "        return len(self._data)\n",
    "    \n",
    "    def __getitem__(self, pos):\n",
    "        return self._data[pos]\n",
    "    \n",
    "    def __setitem__(self, pos, value):\n",
    "        self._data[pos] = value\n",
    "    \n",
    "    # def __iter__(self):\n",
    "    #     for pos in range(0, len(self._data)):\n",
    "    #         yield self._data[pos]\n",
    "    \n",
    "    #Tambien podemos hacer que nuesta iteración sea diferente y dar una salida customizada\n",
    "    def __iter__(self):\n",
    "        for pos in range(0, len(self._data)):\n",
    "            yield f\"Valor: {self._data[pos]}\" # yield es como un return pero que no sale de la función, se utiliza para estos casos\n",
    "\n",
    "v = Vector([1,4])\n",
    "for x in v:\n",
    "    print(x)"
   ]
  }
 ],
 "metadata": {
  "kernelspec": {
   "display_name": "Python 3",
   "language": "python",
   "name": "python3"
  },
  "language_info": {
   "codemirror_mode": {
    "name": "ipython",
    "version": 3
   },
   "file_extension": ".py",
   "mimetype": "text/x-python",
   "name": "python",
   "nbconvert_exporter": "python",
   "pygments_lexer": "ipython3",
   "version": "3.9.6"
  }
 },
 "nbformat": 4,
 "nbformat_minor": 2
}
