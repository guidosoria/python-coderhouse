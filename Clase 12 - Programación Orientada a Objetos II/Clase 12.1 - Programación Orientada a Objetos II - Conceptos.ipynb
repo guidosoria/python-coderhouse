{
 "cells": [
  {
   "cell_type": "markdown",
   "metadata": {},
   "source": [
    "# Programación Orientada a Objetos II - Conceptos"
   ]
  },
  {
   "cell_type": "markdown",
   "metadata": {},
   "source": [
    "### ¿ Que era la POO ?\n",
    "##### Es un modo o paradigma de programación, que nos permite organizar el código pensando el problema como una relación entre “cosas”, denominadas objetos\n",
    "##### Los objetos se trabajan utilizando las clases. Estas nos permiten agrupar un conjunto de variables y funciones que veremos a continuación"
   ]
  },
  {
   "cell_type": "markdown",
   "metadata": {},
   "source": [
    "### Atributos\n",
    "##### Cosas de lo más cotidianas como una computadora o un auto pueden ser representadas con clases. Estas clases tienen diferentes características, que en el caso de la computadora podrían ser \"marca\" o \"modelo; a estas características las llamamos \"ATRIBUTOS\""
   ]
  },
  {
   "cell_type": "markdown",
   "metadata": {},
   "source": [
    "### Métodos\n",
    "##### Por otro lado, las clases tienen un conjunto de funcionalidades. En el caso de la computadora podría ser \"imprimir\" o \"reproducir\"; a estas funcionalidades las llamaremos \"MÉTODOS\""
   ]
  },
  {
   "cell_type": "markdown",
   "metadata": {},
   "source": [
    "### Objetos\n",
    "##### Pueden existir diferentes tipos de computadoras. Llamaremos a estos diferentes tipos de computadoras \"OBJETOS\""
   ]
  }
 ],
 "metadata": {
  "language_info": {
   "name": "python"
  }
 },
 "nbformat": 4,
 "nbformat_minor": 2
}
