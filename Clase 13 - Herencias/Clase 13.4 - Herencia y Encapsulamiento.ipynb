{
 "cells": [
  {
   "cell_type": "markdown",
   "metadata": {},
   "source": [
    "# Herencia y Encapsulamiento\n",
    "##### A través de la aplicación del concepto __\"Encapsulamiento\"__, podemos indicarle a Python por ejemplo, que no queremos que un método sea heredado por una clase hija"
   ]
  },
  {
   "cell_type": "code",
   "execution_count": 1,
   "metadata": {},
   "outputs": [
    {
     "name": "stdout",
     "output_type": "stream",
     "text": [
      "este es el metodo moverse\n"
     ]
    }
   ],
   "source": [
    "class Animal: \n",
    "\n",
    "  def __init__(self, especie, edad):#Constructor como siempre en la clase Padre\n",
    "    self.especie = especie\n",
    "    self.edad = edad \n",
    "    \n",
    "  def __hablar(self):  #Metodo privado\n",
    "    print(\"Este es el metodo hablar\")\n",
    "\n",
    "  def moverse(self): \n",
    "    print(\"Este es el metodo moverse\")\n",
    "\n",
    "class Perro(Animal): #Creamos una clase perro perteneciente a la clase animal\n",
    "  pass\n",
    "\n",
    "perro1 = Perro(\"Mamífero\", 11) #Instanciamos un objeto\n",
    "\n",
    "perro1.moverse()"
   ]
  },
  {
   "cell_type": "code",
   "execution_count": 2,
   "metadata": {},
   "outputs": [
    {
     "ename": "AttributeError",
     "evalue": "'Perro' object has no attribute '__hablar'",
     "output_type": "error",
     "traceback": [
      "\u001b[0;31m---------------------------------------------------------------------------\u001b[0m",
      "\u001b[0;31mAttributeError\u001b[0m                            Traceback (most recent call last)",
      "Cell \u001b[0;32mIn[2], line 1\u001b[0m\n\u001b[0;32m----> 1\u001b[0m \u001b[43mperro1\u001b[49m\u001b[38;5;241;43m.\u001b[39;49m\u001b[43m__hablar\u001b[49m() \u001b[38;5;66;03m#No se puede acceder dado que no fue un metodo heredado por la clase hija\u001b[39;00m\n",
      "\u001b[0;31mAttributeError\u001b[0m: 'Perro' object has no attribute '__hablar'"
     ]
    }
   ],
   "source": [
    "perro1.__hablar() #No se puede acceder dado que no fue un metodo heredado por la clase hija"
   ]
  }
 ],
 "metadata": {
  "kernelspec": {
   "display_name": "Python 3",
   "language": "python",
   "name": "python3"
  },
  "language_info": {
   "codemirror_mode": {
    "name": "ipython",
    "version": 3
   },
   "file_extension": ".py",
   "mimetype": "text/x-python",
   "name": "python",
   "nbconvert_exporter": "python",
   "pygments_lexer": "ipython3",
   "version": "3.9.6"
  }
 },
 "nbformat": 4,
 "nbformat_minor": 2
}
