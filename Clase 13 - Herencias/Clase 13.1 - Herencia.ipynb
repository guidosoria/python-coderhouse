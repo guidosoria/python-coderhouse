{
 "cells": [
  {
   "cell_type": "markdown",
   "metadata": {},
   "source": [
    "# Herencias\n",
    "##### La herencia es un proceso mediante el cual se puede crear una __clase hija__ que hereda de una __clase padre__, compartiendo sus métodos y atributos\n",
    "##### Además de ello, una clase hija puede sobreesribir los métodos o atributos, o incluso definir unos nuevos"
   ]
  },
  {
   "cell_type": "markdown",
   "metadata": {},
   "source": [
    "### ¿ De que se trata ?\n",
    "##### Pdoemos crear una clase hija con tan solo pasar como parámetro la clase de la que queremos heredar"
   ]
  },
  {
   "cell_type": "code",
   "execution_count": 1,
   "metadata": {},
   "outputs": [
    {
     "data": {
      "text/plain": [
       "__main__.Perro"
      ]
     },
     "execution_count": 1,
     "metadata": {},
     "output_type": "execute_result"
    }
   ],
   "source": [
    "# Definimos una clase padre\n",
    "class Animal:\n",
    "    pass\n",
    "\n",
    "#Creamos una clase hija que hereda de la clase padre\n",
    "class Perro(Animal):\n",
    "    pass\n",
    "\n",
    "catalina = Perro()\n",
    "\n",
    "type(catalina)"
   ]
  },
  {
   "cell_type": "markdown",
   "metadata": {},
   "source": [
    "### ¿ Como funciona ?\n",
    "##### Dado que __una clase hija hereda los atributos y métodos de la clase padre__, nos puede ser muy útil cuando tengamos clases que se parecen entre sí pero tienen ciertas particularidades\n"
   ]
  },
  {
   "cell_type": "markdown",
   "metadata": {},
   "source": [
    "### Principio de DRY - Don´t Repeat Yourself\n",
    "##### Cuanto más código duplicado exista, más difícil será de modificar y más fácil será crear inconsistencias\n",
    "##### Las clases y la herencia ayudan a no repetir código de manera innecesaria"
   ]
  },
  {
   "cell_type": "markdown",
   "metadata": {},
   "source": [
    "# A recordar\n",
    "##### Realizar estas abstracciones y buscar el denominador común para definir una clase de la que hereden los demás es una tarea de las más complejas en el mundo de la programación\n",
    "\n",
    "# Ejemplo en vivo\n",
    "##### Vamos a definir una clase padre __Animal__ que tendrá todos los atributos y métodos genéricos que los animales pueden tener\n",
    "### __Atributos__\n",
    "##### __Especie:__ Todos los animales pertenecen a una\n",
    "##### __Edad:__ Momento cronológico\n",
    "### __Métodos__\n",
    "##### __Hablar:__ Que cada animal realizará de una forma\n",
    "##### __Moverse:__ Unos lo harán caminando, otros volando\n",
    "##### __Describir:__ Será común a todos los animales"
   ]
  },
  {
   "cell_type": "code",
   "execution_count": 5,
   "metadata": {},
   "outputs": [
    {
     "name": "stdout",
     "output_type": "stream",
     "text": [
      "Guau\n",
      "Muuu!\n",
      "\n",
      "\n",
      "Soy un animal del tipo:  Vaca\n",
      "Soy un animal del tipo:  Abeja\n",
      "\n",
      "\n",
      "Picar!!!\n"
     ]
    }
   ],
   "source": [
    "class Animal:\n",
    "    def __init__(self, especie, edad):\n",
    "        self.especie = especie\n",
    "        self.edad = edad\n",
    "    \n",
    "    # Método genérico pero con implementación particular\n",
    "    def hablar(self):\n",
    "        # Método vacío\n",
    "        pass\n",
    "\n",
    "    # Método genérico pero con implementación particular\n",
    "    def moverse(self):\n",
    "        # Método vacío\n",
    "        pass\n",
    "\n",
    "    # Método genérico con la misma implementación\n",
    "    def describir(self):\n",
    "        print(\"Soy un animal del tipo: \", type(self).__name__)\n",
    "    \n",
    "class Perro(Animal):\n",
    "    def hablar(self):\n",
    "        print(\"Guau\")\n",
    "    def moverse(self):\n",
    "        print(\"Caminando con 4 patas\")\n",
    "\n",
    "class Vaca(Animal):\n",
    "    def hablar(self):\n",
    "        print(\"Muuu!\")\n",
    "    def moverse(self):\n",
    "        print(\"Caminando con 4 patas\")\n",
    "\n",
    "class Abeja(Animal):\n",
    "    def hablar(self):\n",
    "        print(\"Bzzzz!\")\n",
    "    def moverse(self):\n",
    "        print(\"Volando\")\n",
    "\n",
    "    #Nuevo método\n",
    "    def picar(self):\n",
    "        print(\"Picar!!!\")\n",
    "    \n",
    "mi_perro = Perro(\"Mamífero\", 7)\n",
    "mi_vaca = Vaca(\"Mamífero\", 5)\n",
    "mi_abeja = Abeja(\"Insecto\", 1)\n",
    "\n",
    "mi_perro.hablar()\n",
    "mi_vaca.hablar()\n",
    "print(\"\\n\")\n",
    "mi_vaca.describir()\n",
    "mi_abeja.describir()\n",
    "print(\"\\n\")\n",
    "mi_abeja.picar()"
   ]
  },
  {
   "cell_type": "markdown",
   "metadata": {},
   "source": [
    "# Función super()\n",
    "##### Nos permite acceder a los métodos de la clase padre desde una de sus hijas"
   ]
  },
  {
   "cell_type": "code",
   "execution_count": 6,
   "metadata": {},
   "outputs": [
    {
     "name": "stdout",
     "output_type": "stream",
     "text": [
      "Mamifero 13 Myriam\n"
     ]
    }
   ],
   "source": [
    "### Tal vez queramos que nuestro Perro tenga un parámetro extrra en el constructor, como podría ser \"dueño\"\n",
    "### Para realizar esto tenemos dos alternativas\n",
    "##### Crear un nuevo __init__ y guardar todas las variables una a una\n",
    "##### Usar super() para llamar al __init__ de la clase padre que ya aceptaaba la especie y la edad, y asignarle la nueva variable\n",
    "\n",
    "class Perro(Animal):\n",
    "    # ALTERNATIVA 1:\n",
    "    def __init__(self, especie, edad, dueño):\n",
    "    #     self.especie = especie\n",
    "    #     self.edad = edad\n",
    "    #     self.dueño = dueño\n",
    "\n",
    "    # ALTERNATIVA 2:\n",
    "        super().__init__(especie, edad)\n",
    "        self.dueño = dueño\n",
    "\n",
    "lola = Perro(\"Mamifero\", 13, \"Myriam\")\n",
    "print(lola.especie, lola.edad, lola.dueño)"
   ]
  }
 ],
 "metadata": {
  "kernelspec": {
   "display_name": "Python 3",
   "language": "python",
   "name": "python3"
  },
  "language_info": {
   "codemirror_mode": {
    "name": "ipython",
    "version": 3
   },
   "file_extension": ".py",
   "mimetype": "text/x-python",
   "name": "python",
   "nbconvert_exporter": "python",
   "pygments_lexer": "ipython3",
   "version": "3.9.6"
  }
 },
 "nbformat": 4,
 "nbformat_minor": 2
}
