{
 "cells": [
  {
   "cell_type": "markdown",
   "metadata": {},
   "source": [
    "# Poliformismo\n",
    "##### Es un término, aplicado a la programación que indica que los objetos pueden tomar diferentes formas\n",
    "### ¿ Pero que significa ?\n",
    "##### Esto refiere a que objetos de diferentes clases pueden ser accedidos utilizando el mismo interfaz, mostrando un comportamiento distinto (tomando diferentes formas) según como sean accedidos"
   ]
  },
  {
   "cell_type": "markdown",
   "metadata": {},
   "source": [
    "### ¿ Para qué se utiliza ?\n",
    "##### El Poliformismo es ampliamente utilizado en la aplicación de la herencia\n",
    "### ¿ Cómo se utiliza ?\n",
    "##### Podemos sustituir un método proviniente de la __clase padre__, en la __clase hija__. Se debe definir un método con el mismo nombre y parámetros, pero debe de tomar otra conducta"
   ]
  },
  {
   "cell_type": "code",
   "execution_count": 8,
   "metadata": {},
   "outputs": [
    {
     "name": "stdout",
     "output_type": "stream",
     "text": [
      "Mensaje desde la clase Obrero\n",
      "1\n"
     ]
    }
   ],
   "source": [
    "class Persona():\n",
    "    def __init__(self):\n",
    "        self.cedula = 50361133\n",
    "    def mensaje(self):\n",
    "        print(\"Mensaje desde la clase Persona\")\n",
    "\n",
    "class Obrero(Persona):\n",
    "    def __init__(self): # Acá estoy haciendo otro INIT y por ende no voy a tener el atributo \"cédula\" de la clase padre\n",
    "        self.especialista = 1\n",
    "    \n",
    "    def mensaje(self):\n",
    "        print(\"Mensaje desde la clase Obrero\")\n",
    "\n",
    "trabajador = Obrero()\n",
    "trabajador.mensaje()\n",
    "print(trabajador.especialista)"
   ]
  },
  {
   "cell_type": "markdown",
   "metadata": {},
   "source": [
    "# Duck Typing\n",
    "### ¿Que es?\n",
    "##### Explicar el polimorfismo desde el punto de vista Python es complicado sin hablar del \"duck typing\". Es un concepto que aplica a ciertos lenguajes orientados a objetos y que tiene origen en la siguiente frase:\n",
    "##### __\"If it walks like a duck and it quacks like a duck, then it must be a duck\"__\n",
    "##### A Python le dan igual los tipos de objetos, lo único que le importan son los métodos"
   ]
  },
  {
   "cell_type": "code",
   "execution_count": 9,
   "metadata": {},
   "outputs": [
    {
     "name": "stdout",
     "output_type": "stream",
     "text": [
      "¡Cua!, ¡Cua!\n"
     ]
    }
   ],
   "source": [
    "class Pato:\n",
    "    def hablar(self):\n",
    "        print(\"¡Cua!, ¡Cua!\")\n",
    "\n",
    "p = Pato()\n",
    "p.hablar()"
   ]
  },
  {
   "cell_type": "markdown",
   "metadata": {},
   "source": [
    "##### En Python __no es necesario especificar los tipos__, simplemente decimos que el parámetro de entrada tiene nombre __x__\n",
    "##### Vamos a definir una función llamada_hablar() que llama al método \"hablar\" del objeto que se le pase"
   ]
  },
  {
   "cell_type": "code",
   "execution_count": 19,
   "metadata": {},
   "outputs": [
    {
     "name": "stdout",
     "output_type": "stream",
     "text": [
      "¡Cua!, ¡Cua!\n"
     ]
    }
   ],
   "source": [
    "class Pato:\n",
    "    def hablar(self):\n",
    "        print(\"¡Cua!, ¡Cua!\")\n",
    "\n",
    "def llamada_hablar(x):\n",
    "    x.hablar()\n",
    "\n",
    "p = Pato()\n",
    "\n",
    "llamada_hablar(p)"
   ]
  },
  {
   "cell_type": "markdown",
   "metadata": {},
   "source": [
    "##### Cuando Python entra en la función y evalúa __x.hablar()__, le a igual el tipo al que pertenezca __x__ siempre y cuando tenga el método __hablar()__\n",
    "##### Esto es duck typing en todo su esplendor"
   ]
  },
  {
   "cell_type": "code",
   "execution_count": 21,
   "metadata": {},
   "outputs": [
    {
     "name": "stdout",
     "output_type": "stream",
     "text": [
      "¡Cua!, ¡Cua!\n",
      "¡Guau!, ¡Guau!\n"
     ]
    }
   ],
   "source": [
    "class Pato:\n",
    "    def hablar(self):\n",
    "        print(\"¡Cua!, ¡Cua!\")\n",
    "\n",
    "class Perro:\n",
    "    def hablar(self):\n",
    "        print(\"¡Guau!, ¡Guau!\")\n",
    "\n",
    "for animal in Pato(), Perro():\n",
    "    animal.hablar()"
   ]
  },
  {
   "cell_type": "markdown",
   "metadata": {},
   "source": [
    "##### Podemos observar que cada animal se comporta de manera distinta al usar \"hablar()\""
   ]
  }
 ],
 "metadata": {
  "kernelspec": {
   "display_name": "Python 3",
   "language": "python",
   "name": "python3"
  },
  "language_info": {
   "codemirror_mode": {
    "name": "ipython",
    "version": 3
   },
   "file_extension": ".py",
   "mimetype": "text/x-python",
   "name": "python",
   "nbconvert_exporter": "python",
   "pygments_lexer": "ipython3",
   "version": "3.9.6"
  }
 },
 "nbformat": 4,
 "nbformat_minor": 2
}
