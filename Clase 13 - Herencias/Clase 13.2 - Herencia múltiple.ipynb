{
 "cells": [
  {
   "cell_type": "markdown",
   "metadata": {},
   "source": [
    "# Herencia múltiple\n",
    "##### La herencia múltiple es similar a lo que vimos con la simple, solamente que en vez de heredar de una sola clase hereda de varias\n",
    "### ¿Que pasa si estoy heredando de dos clases que tienen métodos o atributos llamados igual? ¿Cual heredo?"
   ]
  },
  {
   "cell_type": "code",
   "execution_count": 9,
   "metadata": {},
   "outputs": [
    {
     "name": "stdout",
     "output_type": "stream",
     "text": [
      "Habla la Clase 2\n",
      "Piensa la Clase 2\n"
     ]
    }
   ],
   "source": [
    "class Clase1:\n",
    "    def __init__(self):\n",
    "        return \"En init de Clase 1\"\n",
    "        \n",
    "    def hablar(self):\n",
    "        return \"Habla la Clase 1\"\n",
    "    \n",
    "class Clase1:\n",
    "    def __init__(self):\n",
    "        return \"En init de Clase 2\"\n",
    "        \n",
    "    def hablar(self):\n",
    "        return \"Habla la Clase 2\"\n",
    "    \n",
    "    def pensar(self):\n",
    "        return \"Piensa la Clase 2\"\n",
    "    \n",
    "class Clase3(Clase1):\n",
    "    def __init__(self):\n",
    "        super().__init__()\n",
    "\n",
    "objeto = Clase3() \n",
    "print(objeto.hablar())\n",
    "print(objeto.pensar())"
   ]
  },
  {
   "cell_type": "markdown",
   "metadata": {},
   "source": [
    "##### Cómo vemos, en el caso de que las clases de las cuales estoy heredando tengan un mismo objeto o atributo, se hereda en el orden que las puse cuando definí la clase hija, o sea de izquierda a derecha. En este caso el orden es el siguiente:"
   ]
  },
  {
   "cell_type": "code",
   "execution_count": 11,
   "metadata": {},
   "outputs": [
    {
     "data": {
      "text/plain": [
       "(__main__.Clase3, __main__.Clase1, object)"
      ]
     },
     "execution_count": 11,
     "metadata": {},
     "output_type": "execute_result"
    }
   ],
   "source": [
    "Clase3.__mro__ # Method Resolution Order: Un método especial para ver el orden de herencia de una clase"
   ]
  }
 ],
 "metadata": {
  "kernelspec": {
   "display_name": "Python 3",
   "language": "python",
   "name": "python3"
  },
  "language_info": {
   "codemirror_mode": {
    "name": "ipython",
    "version": 3
   },
   "file_extension": ".py",
   "mimetype": "text/x-python",
   "name": "python",
   "nbconvert_exporter": "python",
   "pygments_lexer": "ipython3",
   "version": "3.9.6"
  }
 },
 "nbformat": 4,
 "nbformat_minor": 2
}
