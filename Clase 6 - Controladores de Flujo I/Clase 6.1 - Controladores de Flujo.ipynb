{
 "cells": [
  {
   "cell_type": "markdown",
   "metadata": {},
   "source": [
    "# Flujo\n",
    "\n",
    "#### Para que nuestro programa pueda tomar decisones y sepa como actuar en función de determinadas situaciones, necesitamos de sentencias de CONTROL DE FLUJO\n",
    "\n",
    "### Sentencias de Control\n",
    "#### Se dividen en dos tipos: CONTROL CONDICIONAL y CONTROL ITERATIVO"
   ]
  },
  {
   "cell_type": "markdown",
   "metadata": {},
   "source": [
    "# Condicional\n",
    "#### Las sentencias de control condicionales son aquelas que nos permiten evaluar si una o mas condiciones se cumplen para decir que acción vamos a ejecutar; dicha evaluación arrojará un resultado booleano: True or False\n",
    "#### Para describir la evaluación a realizar sobre una condición utilizamos los opeadores relacionales (==, !=, <, >, etc), y par evaluar más de una condición utilizaremos los operadores lógicos (not, and, or)"
   ]
  },
  {
   "cell_type": "markdown",
   "metadata": {},
   "source": [
    "# Sentencia IF\n",
    "#### Es una de las sentencias más famosas y utilizada en programación\n",
    "#### Al utilizar la palabra reservada \"if\" le estamos indicando a Python que queremos ejecutar una porción de código o bloque de código soo si se cumple una determinada condición y el resuldado es True"
   ]
  },
  {
   "cell_type": "code",
   "execution_count": 2,
   "metadata": {},
   "outputs": [
    {
     "name": "stdout",
     "output_type": "stream",
     "text": [
      "Eres un adulto\n"
     ]
    }
   ],
   "source": [
    "edad = int(input(\"Indícanos tu edad: \"))\n",
    "if edad > 18:\n",
    "    print(\"Eres un adulto\")"
   ]
  },
  {
   "cell_type": "markdown",
   "metadata": {},
   "source": [
    "# Identación\n",
    "#### Python se basa en la sangría para definir el alcance del código; otos lenguajes suelen utilizar corchetes para este propósito"
   ]
  },
  {
   "cell_type": "code",
   "execution_count": null,
   "metadata": {},
   "outputs": [],
   "source": [
    "a = 25\n",
    "b = 50\n",
    "if b > a:\n",
    "print(\"B es mayor que A\") # Esto debe arroja un error ya que no se cumplió con la identación, necesaria para saber que está dentro de nuestro IF\n"
   ]
  },
  {
   "cell_type": "markdown",
   "metadata": {},
   "source": [
    "# Sentencia ELSE\n",
    "#### Al utilizar a palabra reservada \"else\" le estamos indicando a Python que queremos ejecutar una porción de código, o bloque de código, sólo si no se cumple ninguna de las condiciones antes dichas, es decir si en las evaluaciones anteriores todas resultaron \"False\"\n"
   ]
  },
  {
   "cell_type": "code",
   "execution_count": 3,
   "metadata": {},
   "outputs": [
    {
     "name": "stdout",
     "output_type": "stream",
     "text": [
      "Eres menor de edad\n"
     ]
    }
   ],
   "source": [
    "edad = int(input(\"Indícanos tu edad: \"))\n",
    "if edad > 18:\n",
    "    print(\"Eres un adulto\")\n",
    "else:\n",
    "    print(\"Eres menor de edad\")"
   ]
  },
  {
   "cell_type": "markdown",
   "metadata": {},
   "source": [
    "# Múltiples IF\n",
    "#### Los if pueden ser anidados, por lo que podemos hacer evaluaciones dentro de otras evaluaciones"
   ]
  },
  {
   "cell_type": "code",
   "execution_count": 6,
   "metadata": {},
   "outputs": [
    {
     "name": "stdout",
     "output_type": "stream",
     "text": [
      "Por encima de 10\n",
      "También por encima de 20\n"
     ]
    }
   ],
   "source": [
    "x = int(input(\"Ingresa un número: \"))\n",
    "if x > 10:\n",
    "    print(\"Por encima de 10\")\n",
    "    if x > 20:\n",
    "        print(\"También por encima de 20\")\n",
    "    else:\n",
    "        print(\"Pero no por encima de 20\")"
   ]
  },
  {
   "cell_type": "markdown",
   "metadata": {},
   "source": [
    "# Sentencia ELIF\n",
    "#### Al utilizar la palabra reservada \"elif\" le estamos indicando a Python que queremos ejecutar una porción de código, o bloque de código, solo si la condición anterior no se cumple; es decir que el resultado del \"if\" o \"elif\" anterior dió como resultado False\n"
   ]
  },
  {
   "cell_type": "code",
   "execution_count": 7,
   "metadata": {},
   "outputs": [
    {
     "name": "stdout",
     "output_type": "stream",
     "text": [
      "A es igual a 5\n"
     ]
    }
   ],
   "source": [
    "a = 2 + 3\n",
    "if a == 4:\n",
    "    print(\"A es igual a 4\")\n",
    "elif a == 5:\n",
    "    print(\"A es igual a 5\")\n",
    "elif a == 6:\n",
    "    print(\"A es igual a 6\")\n",
    "else:\n",
    "    print(\"a no es igual ni 4 ni 5 ni 6\")"
   ]
  }
 ],
 "metadata": {
  "kernelspec": {
   "display_name": "Python 3",
   "language": "python",
   "name": "python3"
  },
  "language_info": {
   "codemirror_mode": {
    "name": "ipython",
    "version": 3
   },
   "file_extension": ".py",
   "mimetype": "text/x-python",
   "name": "python",
   "nbconvert_exporter": "python",
   "pygments_lexer": "ipython3",
   "version": "3.9.6"
  }
 },
 "nbformat": 4,
 "nbformat_minor": 2
}
