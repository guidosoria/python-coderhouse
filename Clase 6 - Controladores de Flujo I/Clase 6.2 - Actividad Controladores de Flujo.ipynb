{
 "cells": [
  {
   "cell_type": "markdown",
   "metadata": {},
   "source": [
    "# Generaciones Digitales\n",
    "### Escribir un programa que indique la generación correspondiente para un año de nacimiento indicado\n",
    "#### 2001 a 2010= Generación Z, 1980 a 2000 = Generación Y, 1965 a 1979 = Generación X, 1946 a 1964 = Baby Boomer, 1920 a 1940 = Generacion Silenciosa"
   ]
  },
  {
   "cell_type": "code",
   "execution_count": 5,
   "metadata": {},
   "outputs": [
    {
     "name": "stdout",
     "output_type": "stream",
     "text": [
      "Tu generación no está calificada\n"
     ]
    }
   ],
   "source": [
    "ano_nacimiento = int(input(\"Ingresa el año en qu naciste: \"))\n",
    "\n",
    "if ano_nacimiento >= 2001 and ano_nacimiento <= 2010:\n",
    "    print(\"Perteneces a la generación Z\")\n",
    "elif ano_nacimiento >= 1980 and ano_nacimiento <= 2000:\n",
    "    print(\"Perteneces a la generación Y\")\n",
    "elif ano_nacimiento >= 1965 and ano_nacimiento <= 1979:\n",
    "    print(\"Perteneces a la generación X\")\n",
    "elif ano_nacimiento >= 1946 and ano_nacimiento <= 1964:\n",
    "    print(\"Perteneces a la generación Baby Boomer\")\n",
    "elif ano_nacimiento >= 1920 and ano_nacimiento <= 1945:\n",
    "    print(\"Perteneces a la generación Silenciosa\")\n",
    "else:\n",
    "    print(\"Tu generación no está calificada\")"
   ]
  },
  {
   "cell_type": "markdown",
   "metadata": {},
   "source": [
    "# Aprobación de Crédito Bancario\n",
    "#### Para que un crédito bancario sea aprobado, el cliente debe ser mayor de edad, tener antiguedad en el sistema financiero de mínimo 3 años y un ingreso mayor a 2500 USD. En caso de que la antiguedad no sea suficiente, su ingreso mensual debe ser como míínimo 4000 USD. Si no cumple ninguna de las condiciones, no se aprueba el crédito"
   ]
  },
  {
   "cell_type": "code",
   "execution_count": 11,
   "metadata": {},
   "outputs": [
    {
     "name": "stdout",
     "output_type": "stream",
     "text": [
      "No se aprueba el crédito\n"
     ]
    }
   ],
   "source": [
    "edad = int(input(\"Ingresa la edad del cliente: \"))\n",
    "antiguedad = int(input(\"Ingresa los años de antiguedad del cliente en el sistema financiero: \"))\n",
    "ingresos = float(input(\"Ingresa los ingresos mensuales del cliente en USD: \"))\n",
    "\n",
    "if edad >= 18:\n",
    "    if antiguedad >= 3 and ingresos >= 2500:\n",
    "        print(\"Se aprueba el crédito\")\n",
    "    elif ingresos >= 4000:\n",
    "        print(\"Se aprueba el crédito\")\n",
    "    else:\n",
    "        print(\"No se aprueba el crédito\")\n",
    "else:\n",
    "    print(\"No se aprueba el crédito\")"
   ]
  },
  {
   "cell_type": "markdown",
   "metadata": {},
   "source": []
  }
 ],
 "metadata": {
  "kernelspec": {
   "display_name": "Python 3",
   "language": "python",
   "name": "python3"
  },
  "language_info": {
   "codemirror_mode": {
    "name": "ipython",
    "version": 3
   },
   "file_extension": ".py",
   "mimetype": "text/x-python",
   "name": "python",
   "nbconvert_exporter": "python",
   "pygments_lexer": "ipython3",
   "version": "3.9.6"
  }
 },
 "nbformat": 4,
 "nbformat_minor": 2
}
