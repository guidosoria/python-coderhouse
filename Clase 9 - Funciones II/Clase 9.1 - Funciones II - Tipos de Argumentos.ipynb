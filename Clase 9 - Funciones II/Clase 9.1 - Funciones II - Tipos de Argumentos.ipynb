{
 "cells": [
  {
   "cell_type": "markdown",
   "metadata": {},
   "source": [
    "# FUNCIONES II"
   ]
  },
  {
   "cell_type": "markdown",
   "metadata": {},
   "source": [
    "### -- Argumentos y parámetros --\n",
    "\n",
    "##### Los PARÁMETROS son los que definimos que va a utilizar la función y que más adelante los utilizará remplazando estos por los \"argumentos\" que se le pasaron a la función al momento de ejecutarla"
   ]
  },
  {
   "cell_type": "code",
   "execution_count": 4,
   "metadata": {},
   "outputs": [],
   "source": [
    "def imprimir(parametro1, parametro2):\n",
    "    print(parametro1, parametro2)"
   ]
  },
  {
   "cell_type": "markdown",
   "metadata": {},
   "source": [
    "##### Los ARGUMENTOS son los valores que le pasamos a la función al momento de ejecutarla"
   ]
  },
  {
   "cell_type": "code",
   "execution_count": 5,
   "metadata": {},
   "outputs": [
    {
     "name": "stdout",
     "output_type": "stream",
     "text": [
      "argumento1 argumento2\n"
     ]
    }
   ],
   "source": [
    "imprimir(\"argumento1\", \"argumento2\")"
   ]
  },
  {
   "cell_type": "markdown",
   "metadata": {},
   "source": [
    "### -- Argumentos por posición --\n",
    "##### Cuando se envían argumentos a una función, estos se reciben por orden en los parámetros definidos, empezando por la posición 0"
   ]
  },
  {
   "cell_type": "code",
   "execution_count": 6,
   "metadata": {},
   "outputs": [
    {
     "name": "stdout",
     "output_type": "stream",
     "text": [
      "12\n"
     ]
    }
   ],
   "source": [
    "def suma(num1, num2):\n",
    "    return num1 + num2\n",
    "\n",
    "resultado = suma(7,5)\n",
    "print(resultado)"
   ]
  },
  {
   "cell_type": "markdown",
   "metadata": {},
   "source": [
    "### -- Argumentos por nombre --\n",
    "##### Otra forma de pasar argumentos a una función es utilizando su nombre, si los sabemos y ahí no es necesario que éstos estén en el orden que están definidos en la función"
   ]
  },
  {
   "cell_type": "code",
   "execution_count": 10,
   "metadata": {},
   "outputs": [
    {
     "name": "stdout",
     "output_type": "stream",
     "text": [
      "5\n",
      "5\n"
     ]
    }
   ],
   "source": [
    "def resta(a, b):\n",
    "    return a - b\n",
    "\n",
    "print(resta(10, 5))\n",
    "\n",
    "print(resta(b=5, a=10))"
   ]
  },
  {
   "cell_type": "markdown",
   "metadata": {},
   "source": [
    "### -- Llamada sin argumentos ---\n",
    "##### ¿Que pasa si hacemos una llamada sin argumentos?"
   ]
  },
  {
   "cell_type": "code",
   "execution_count": 12,
   "metadata": {},
   "outputs": [
    {
     "ename": "TypeError",
     "evalue": "resta() missing 2 required positional arguments: 'd' and 'f'",
     "output_type": "error",
     "traceback": [
      "\u001b[0;31m---------------------------------------------------------------------------\u001b[0m",
      "\u001b[0;31mTypeError\u001b[0m                                 Traceback (most recent call last)",
      "Cell \u001b[0;32mIn[12], line 4\u001b[0m\n\u001b[1;32m      1\u001b[0m \u001b[38;5;28;01mdef\u001b[39;00m \u001b[38;5;21mresta\u001b[39m(d,f):\n\u001b[1;32m      2\u001b[0m     \u001b[38;5;28;01mreturn\u001b[39;00m d\u001b[38;5;241m-\u001b[39mf\n\u001b[0;32m----> 4\u001b[0m \u001b[38;5;28mprint\u001b[39m(\u001b[43mresta\u001b[49m\u001b[43m(\u001b[49m\u001b[43m)\u001b[49m) \u001b[38;5;66;03m### Esto debería dar error\u001b[39;00m\n",
      "\u001b[0;31mTypeError\u001b[0m: resta() missing 2 required positional arguments: 'd' and 'f'"
     ]
    }
   ],
   "source": [
    "def resta(d,f):\n",
    "    return d-f\n",
    "\n",
    "print(resta()) ### Esto debería dar error"
   ]
  },
  {
   "cell_type": "markdown",
   "metadata": {},
   "source": [
    "### -- Parámetros por defecto --\n",
    "##### Python nos deja asignar unos valores por defecto a los parámetros, es decir, indicarle que tendrán un valor por defecto si no viene ningún valor\n",
    "\n",
    "##### Aquellos valores que tengan un valor por defecto serán opcionales, de no existir se toma el valor por defecto; si existen este valor por defecto cambia al que se pasó como argumento"
   ]
  },
  {
   "cell_type": "code",
   "execution_count": 14,
   "metadata": {},
   "outputs": [
    {
     "name": "stdout",
     "output_type": "stream",
     "text": [
      "8\n"
     ]
    }
   ],
   "source": [
    "def resta(a=5,b=10):\n",
    "    return b - a\n",
    "\n",
    "resultado = resta(2) ### En este caso, el \"5\" del valor \"a\" fue reemplazado por 2 y el \"10\" del valor \"b\" queda igual\n",
    "print(resultado)"
   ]
  },
  {
   "cell_type": "markdown",
   "metadata": {},
   "source": [
    "# -- Argumentos por valor y referencia --\n",
    "### Argumentos\n",
    "##### Cuando enviamos información a una función, generalmente estos datos se envían por valor; esto significa que dentro de la función se crea una copia de los valores que enviamos en sus propias variables\n",
    "##### *** enteros, flotatantes, cadenas, lógicos... ***"
   ]
  },
  {
   "cell_type": "markdown",
   "metadata": {},
   "source": [
    "### Referencia\n",
    "##### Hay casos excepcionales, las colecciones, listas, diccionarios, conjuntos; estos datos se envían por REFERENCIA\n",
    "##### Esto significa, que en lugar de una copia dentro de la función, estaremos manejando el dato original, y si lo modificamos también se verá modificado en el exterior. Esto es debido a que hacen referencia a la variable externa, algo así como un acceso directo\n",
    "##### *** listas, diccionarios, tuplas, conjuntos ***"
   ]
  },
  {
   "cell_type": "code",
   "execution_count": 3,
   "metadata": {},
   "outputs": [
    {
     "name": "stdout",
     "output_type": "stream",
     "text": [
      "[20, 100, 200]\n"
     ]
    }
   ],
   "source": [
    "def doblar_valores(numeros):\n",
    "    for i,n in enumerate(numeros):\n",
    "        numeros[i] *= 2\n",
    "\n",
    "lista = [10, 50, 100]\n",
    "\n",
    "resultado = doblar_valores(lista)\n",
    "print(lista)"
   ]
  },
  {
   "cell_type": "markdown",
   "metadata": {},
   "source": [
    "# Argumentos indeterminados\n",
    "### -- Uso de *Args y **Kwargs --\n",
    "##### ¿Para que se usan?\n",
    "##### Lo primero que hay que saber es que no se tienen que usar específicamentes los nombres ARGS y KWARGS, se trata de una convención entre programadores. Sin embargo, lo que se tiene que usar son los \"*\"; es decir por ejemplo *variable **variables"
   ]
  },
  {
   "cell_type": "markdown",
   "metadata": {},
   "source": [
    "### -- Uso de *Args --\n",
    "##### Gracias a los *args en Python, podemos definir funciones cuyo número de argumentos es variable. Es decir, que podemos definir funciones que no aceptan un número determinado de parámetros con los que son llamados"
   ]
  },
  {
   "cell_type": "code",
   "execution_count": 6,
   "metadata": {},
   "outputs": [
    {
     "name": "stdout",
     "output_type": "stream",
     "text": [
      "583\n",
      "2185\n"
     ]
    }
   ],
   "source": [
    "def suma(*args): # El args que nos devuelve Python es una tupla con los argumentos pasados\n",
    "    s = 0\n",
    "    for arg in args: \n",
    "        s += arg\n",
    "    return s\n",
    "\n",
    "resultado1 = suma(2,43,4,7,444,73,10)\n",
    "resultado2 = suma(2121,3,31,21,9)\n",
    "print(resultado1)\n",
    "print(resultado2)"
   ]
  },
  {
   "cell_type": "code",
   "execution_count": 8,
   "metadata": {},
   "outputs": [
    {
     "name": "stdout",
     "output_type": "stream",
     "text": [
      "583\n"
     ]
    }
   ],
   "source": [
    "### Una forma mas fácil de escribir la función anterior:\n",
    "def suma(*args): # \n",
    "    return sum(args)\n",
    "\n",
    "resultado = suma(2,43,4,7,444,73,10)\n",
    "print(resultado)"
   ]
  },
  {
   "cell_type": "markdown",
   "metadata": {},
   "source": [
    "### -- Uso de **Kwargs --\n",
    "##### A diferencia de *args, este nos permite dar un nombre a cada argumento de entrada, pudiendo acceder a ellos dentro de la función a través de un diccionario"
   ]
  },
  {
   "cell_type": "code",
   "execution_count": 15,
   "metadata": {},
   "outputs": [
    {
     "name": "stdout",
     "output_type": "stream",
     "text": [
      "a = 25\n",
      "b = 734\n",
      "c = 900\n",
      "1659\n"
     ]
    }
   ],
   "source": [
    "def suma(**kwargs): #El kwargs que nos devuelve Python es un diccionario\n",
    "    s = 0\n",
    "    for key, value in kwargs.items():\n",
    "        print(f\"{key} = {value}\")\n",
    "        s += value\n",
    "    return s\n",
    "\n",
    "resultado = suma(a=25, b=734, c=900)\n",
    "print(resultado)"
   ]
  }
 ],
 "metadata": {
  "kernelspec": {
   "display_name": "Python 3",
   "language": "python",
   "name": "python3"
  },
  "language_info": {
   "codemirror_mode": {
    "name": "ipython",
    "version": 3
   },
   "file_extension": ".py",
   "mimetype": "text/x-python",
   "name": "python",
   "nbconvert_exporter": "python",
   "pygments_lexer": "ipython3",
   "version": "3.9.6"
  }
 },
 "nbformat": 4,
 "nbformat_minor": 2
}
