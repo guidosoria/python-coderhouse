{
 "cells": [
  {
   "cell_type": "markdown",
   "metadata": {},
   "source": [
    "# Conversaciones tipos de datos\n",
    "### Descripción de la actividad\n",
    "##### Realiza una función que, dependiendo de los parámetros que reciba, convierta a milímetros o a metros\n",
    "##### 1 - Si recibe un argumento, supone que son milímetros y convierte a metros, centímetros y milímetros\n",
    "##### 2 - Si recibe tres argumentos, supone que son metros, centímetros y milímitros y los convierte a milímetros"
   ]
  },
  {
   "cell_type": "code",
   "execution_count": 3,
   "metadata": {},
   "outputs": [
    {
     "name": "stdout",
     "output_type": "stream",
     "text": [
      "2115\n",
      "(1, 24, 0)\n"
     ]
    }
   ],
   "source": [
    "def convertir(a, b=-1, c=-1):\n",
    "    if c == -1 and b == -1:\n",
    "        metros = a // 1000\n",
    "        centimetros = (a%1000) // 10\n",
    "        milimetros = a % 10\n",
    "        return metros, centimetros, milimetros\n",
    "    else:\n",
    "        milimetros = a*1000\n",
    "        milimetros += b*10\n",
    "        milimetros += c\n",
    "        return milimetros\n",
    "    \n",
    "print(convertir(2, 11, 5))\n",
    "print(convertir(1240))\n",
    "        \n"
   ]
  }
 ],
 "metadata": {
  "kernelspec": {
   "display_name": "Python 3",
   "language": "python",
   "name": "python3"
  },
  "language_info": {
   "codemirror_mode": {
    "name": "ipython",
    "version": 3
   },
   "file_extension": ".py",
   "mimetype": "text/x-python",
   "name": "python",
   "nbconvert_exporter": "python",
   "pygments_lexer": "ipython3",
   "version": "3.9.6"
  }
 },
 "nbformat": 4,
 "nbformat_minor": 2
}
