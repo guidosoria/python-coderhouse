{
 "cells": [
  {
   "cell_type": "markdown",
   "metadata": {},
   "source": [
    "## F-Strings\n",
    "#### Antes de analizar las sentencias iterativas vamos a agregar dos formas de generar strings que contengan información dentro; ya sea variables o hasta código en Python"
   ]
  },
  {
   "cell_type": "code",
   "execution_count": 12,
   "metadata": {},
   "outputs": [
    {
     "name": "stdout",
     "output_type": "stream",
     "text": [
      "Tu nombre es Guido y tu apellido es Soria\n",
      "Tu nombre es Guido y tu apellido es Soria\n"
     ]
    }
   ],
   "source": [
    "nombre = \"Guido\"\n",
    "apellido = \"Soria\"\n",
    "print(f\"Tu nombre es {nombre} y tu apellido es {apellido}\") # Con esto hacemos que convierta mi código a string y peuda concatenarse o incluirse con otros strings\n",
    "\n",
    "print(\"Tu nombre es {} y tu apellido es {}\".format(nombre, apellido)) # Otra forma de hacer lo mismo es con el método format"
   ]
  },
  {
   "cell_type": "markdown",
   "metadata": {},
   "source": [
    "## Sentencias Iterativas"
   ]
  },
  {
   "cell_type": "markdown",
   "metadata": {},
   "source": [
    "### ¿ Que es iterar ?\n",
    "##### En programación, \"iteación\" es la repetición de un segmento de código dentro de un programa de computadora. Puede usarse tanto como un término genérico (como sinónimo de repetición) como para describir una forma específica de repetición\n"
   ]
  },
  {
   "cell_type": "markdown",
   "metadata": {},
   "source": [
    "## While - Iterar sin saber al cantidad\n",
    "##### La sentencia While se basa en repetir un bloque de código a partir de evaluar una condición lógica; siempre que esta sea \"True\"\n",
    "\n",
    "##### 1 - Evalúa la condición devolviendo True o False\n",
    "##### 2 - Si la condición es False, se sale de la sentencia While y continúa la ejecucion del programa con la siguiente sentencia\n",
    "##### 3 - Si la condición es True, ejecuta cada una de las sentencias en el bloque de código y regresa al paso 1"
   ]
  },
  {
   "cell_type": "code",
   "execution_count": 5,
   "metadata": {},
   "outputs": [
    {
     "name": "stdout",
     "output_type": "stream",
     "text": [
      "5\n",
      "4\n",
      "3\n",
      "2\n",
      "1\n",
      "Terminó el conteo\n"
     ]
    }
   ],
   "source": [
    "num = 5\n",
    "while num > 0:\n",
    "    print(num)\n",
    "    num -= 1\n",
    "print(\"Terminó el conteo\")"
   ]
  },
  {
   "cell_type": "markdown",
   "metadata": {},
   "source": [
    "## While - Else\n",
    "#### Este \"else\" nos sirve para ejecutar un bloque de código cuando un bucle \"While\" tenga una condición False o haya terminado y no haya sido forzado a salir mediante un \"break\""
   ]
  },
  {
   "cell_type": "code",
   "execution_count": 8,
   "metadata": {},
   "outputs": [
    {
     "name": "stdout",
     "output_type": "stream",
     "text": [
      "Clave incorrecta\n",
      "Clave incorrecta\n",
      "Clave incorrecta\n",
      "Se te acabaron los intentos\n"
     ]
    }
   ],
   "source": [
    "chances = 3\n",
    "clave = \"1234\"\n",
    "while chances > 0:\n",
    "    clave_ingresada = input(\"Ingresa la clave\")\n",
    "    if clave_ingresada == clave:\n",
    "        print(\"Clave correcta\")\n",
    "        break\n",
    "    else:\n",
    "        print(\"Clave incorrecta\")\n",
    "    chances -= 1\n",
    "else:\n",
    "    print(\"Se te acabaron los intentos\")"
   ]
  },
  {
   "cell_type": "markdown",
   "metadata": {},
   "source": [
    "## Instrucciones\n",
    "#### Usar bucles en Python nos permite automatizar y repetir tareas de manera eficiente. Sin embargo, a veces, es posible que un factor externo influya en la forma en que se ejecuta un programa\n",
    "#### Cuando esto sucede, es posible que prefieramos que nuestro programa cierre un bucle por completo, omita parte de un bucle antes de continuar o ignore ese factor externo"
   ]
  },
  {
   "cell_type": "markdown",
   "metadata": {},
   "source": [
    "### Break\n",
    "#### Nos proporciona la oportunidad de cerrar un bucle cuando se activa una conexión externa; por ejemplo que nosotros dentro de nuestro bucle estemos haciendo cierta evaluación de algo en nuestro programa y si esto sucede queremos romper con el bucle\n",
    "#### Generalmente se pone dentro de una sentencia IF"
   ]
  },
  {
   "cell_type": "code",
   "execution_count": 11,
   "metadata": {},
   "outputs": [
    {
     "name": "stdout",
     "output_type": "stream",
     "text": [
      "1\n",
      "2\n",
      "3\n"
     ]
    }
   ],
   "source": [
    "i = 1\n",
    "while i < 6:\n",
    "    print(i)\n",
    "    if i == 3:\n",
    "        break\n",
    "    i += 1"
   ]
  },
  {
   "cell_type": "markdown",
   "metadata": {},
   "source": [
    "### Continue\n",
    "#### Nos da la opción de omitir la parte de un bucle en la que se ativa una condición externa, pero continuar para completar el resto del bucle. Es decir; la iteración se interrumpirá pero el programa regresará a la parte sueprior del bucle"
   ]
  },
  {
   "cell_type": "code",
   "execution_count": 14,
   "metadata": {},
   "outputs": [
    {
     "name": "stdout",
     "output_type": "stream",
     "text": [
      "1\n",
      "2\n",
      "3\n"
     ]
    }
   ],
   "source": [
    "i = 1\n",
    "while i < 6:\n",
    "    print(i)\n",
    "    if i == 3:\n",
    "        break\n",
    "    i += 1\n",
    "\n",
    "# Este bucle será infinito porque cuando i sea igual a tres ya no va a restarle mas 1 \n",
    "# ya que el continue lo enviará de vuelta hacia arriba y así sucesivamente"
   ]
  },
  {
   "cell_type": "markdown",
   "metadata": {},
   "source": [
    "### Pass\n",
    "#### Cuando se activa una condición externa, la instrucción pass permite manejar la condición sin que el bucle se vea afectado de ninguna manera; todo el código continuará leyéndose a menos que se interrumpa con un break u otra instrucción\n",
    "#### Se debe de poner la instrucción \"pass\" dentro del boque de código bajo la instrucción de su bucle, generalmente después de una senencia con IF"
   ]
  },
  {
   "cell_type": "code",
   "execution_count": 4,
   "metadata": {},
   "outputs": [
    {
     "name": "stdout",
     "output_type": "stream",
     "text": [
      "n vale 1\n",
      "n vale 2\n",
      "n vale 3\n",
      "n vale 4\n",
      "n vale 5\n",
      "n vale 6\n",
      "n vale 7\n",
      "n vale 8\n",
      "n vale 9\n",
      "n vale 10\n"
     ]
    }
   ],
   "source": [
    "# EJEMPLO 1\n",
    "n = 0\n",
    "while n < 10:\n",
    "    n += 1\n",
    "    if n == 2:\n",
    "        pass\n",
    "    print('n vale' , n)\n"
   ]
  },
  {
   "cell_type": "code",
   "execution_count": 20,
   "metadata": {},
   "outputs": [
    {
     "name": "stdout",
     "output_type": "stream",
     "text": [
      "n vale 2\n"
     ]
    }
   ],
   "source": [
    "n = 0\n",
    "while n < 10:\n",
    "    n += 1\n",
    "    if n == 2:\n",
    "        pass\n",
    "        print('n vale' , n)"
   ]
  },
  {
   "cell_type": "markdown",
   "metadata": {},
   "source": [
    "#### Generalmente se utiliza cuando tenemos un bucle o un condicional que mas tarde pondremos ahi su contenido; como no puede quedar vacío, por el momento le ponemos un pass (que no hace nada)"
   ]
  },
  {
   "cell_type": "markdown",
   "metadata": {},
   "source": [
    "## For - Cuando sabemos la cantidad\n",
    "#### Se utiliza para recorrer los elementos de un objeto iterable (lista, tupla, etc) y ejecutar un bloque de código"
   ]
  },
  {
   "cell_type": "code",
   "execution_count": 21,
   "metadata": {},
   "outputs": [
    {
     "name": "stdout",
     "output_type": "stream",
     "text": [
      "Soy un item de la lista y valgo 1\n",
      "Soy un item de la lista y valgo 2\n",
      "Soy un item de la lista y valgo 3\n",
      "Soy un item de la lista y valgo 4\n",
      "Soy un item de la lista y valgo 5\n"
     ]
    }
   ],
   "source": [
    "lista = [1, 2, 3, 4, 5]\n",
    "for valor in lista:\n",
    "    print(f\"Soy un item de la lista y valgo {valor}\")"
   ]
  },
  {
   "cell_type": "code",
   "execution_count": 22,
   "metadata": {},
   "outputs": [],
   "source": [
    "numeros = [0,1,2,3,4,5,6,7,8,9,10]\n",
    "for indice, numero in enumerate(numeros):\n",
    "    numeros[indice] *= 5"
   ]
  },
  {
   "cell_type": "markdown",
   "metadata": {},
   "source": [
    "### Enumerate\n",
    "#### Se utiliza para agregar un contador a un iterable y devolverlo como un objeto enumerado. Esto es útil cuando necesitas acceder al índice como al valor de cada elemento en un iterable como una lista, tupla, etc"
   ]
  },
  {
   "cell_type": "code",
   "execution_count": 25,
   "metadata": {},
   "outputs": [
    {
     "name": "stdout",
     "output_type": "stream",
     "text": [
      "La fruta en la posición 0 es: manzana\n",
      "La fruta en la posición 1 es: banana\n",
      "La fruta en la posición 2 es: cereza\n"
     ]
    }
   ],
   "source": [
    "frutas = ['manzana', 'banana', 'cereza']\n",
    "\n",
    "for indice, fruta in enumerate(frutas):\n",
    "    print(f'La fruta en la posición {indice} es: {fruta}')"
   ]
  },
  {
   "cell_type": "markdown",
   "metadata": {},
   "source": [
    "### Range\n",
    "#### Como vimos, el \"for\" necesita de una colección de datos para poder utilizarlo, en otros lenguajes necesitamos solamente de un número para indicar las iteraciones a cumplir\n",
    "#### Para simular estos casos Python nos provee la función \"range\" el cuar representa una colección de números inmutables"
   ]
  },
  {
   "cell_type": "code",
   "execution_count": 34,
   "metadata": {},
   "outputs": [
    {
     "name": "stdout",
     "output_type": "stream",
     "text": [
      "0\n",
      "2\n",
      "4\n",
      "6\n",
      "8\n",
      "10\n",
      "12\n",
      "14\n",
      "16\n",
      "18\n"
     ]
    }
   ],
   "source": [
    "# for i in range(10): # En este caso le digo el número de veces que quiero que itere y empieza desde 0\n",
    "#     print(i)\n",
    "\n",
    "# for x in range(1, 10): # En este caso le digo el número donde comienza y donde termina; el final no está incluido\n",
    "#     print(x)\n",
    "\n",
    "for j in range(0,20,2): #  En este caso le digo el número donde comienza, donde termina y el salto que va dando\n",
    "    print(j)"
   ]
  },
  {
   "cell_type": "markdown",
   "metadata": {},
   "source": [
    "## For - Else\n",
    "#### Con \"For\" también podemos utilizar \"Else\" al final de la iteración"
   ]
  },
  {
   "cell_type": "code",
   "execution_count": 38,
   "metadata": {},
   "outputs": [
    {
     "name": "stdout",
     "output_type": "stream",
     "text": [
      "0\n",
      "1\n",
      "2\n",
      "3\n",
      "4\n",
      "Se terminó de iterar y el número vale 4\n"
     ]
    }
   ],
   "source": [
    "for i in range(5):\n",
    "    print(i)\n",
    "else:\n",
    "    print(\"Se terminó de iterar y el número vale\", i)"
   ]
  },
  {
   "cell_type": "markdown",
   "metadata": {},
   "source": [
    "### For-Break-Continue-Pass\n",
    "#### Al igual que en While, en For también podemos utilizar las instrucciones \"break\", \"continue\" y \"pass\""
   ]
  },
  {
   "cell_type": "code",
   "execution_count": 39,
   "metadata": {},
   "outputs": [
    {
     "name": "stdout",
     "output_type": "stream",
     "text": [
      "Se terminó de iterar y numero vale:  0\n",
      "Se terminó de iterar y numero vale:  1\n",
      "Se terminó de iterar y numero vale:  3\n",
      "Se terminó de iterar y numero vale:  4\n",
      "Se terminó de iterar y numero vale:  5\n",
      "Se terminó de iterar y numero vale:  6\n",
      "Se terminó de iterar y numero vale:  7\n"
     ]
    }
   ],
   "source": [
    "for numero in range(10):\n",
    "    if numero == 2:\n",
    "        continue\n",
    "    elif numero == 8:\n",
    "        break\n",
    "    else:\n",
    "        print(\"Se terminó de iterar y numero vale: \", numero)"
   ]
  }
 ],
 "metadata": {
  "kernelspec": {
   "display_name": "Python 3",
   "language": "python",
   "name": "python3"
  },
  "language_info": {
   "codemirror_mode": {
    "name": "ipython",
    "version": 3
   },
   "file_extension": ".py",
   "mimetype": "text/x-python",
   "name": "python",
   "nbconvert_exporter": "python",
   "pygments_lexer": "ipython3",
   "version": "3.12.5"
  }
 },
 "nbformat": 4,
 "nbformat_minor": 2
}
